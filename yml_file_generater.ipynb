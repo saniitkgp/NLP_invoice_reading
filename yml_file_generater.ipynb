{
 "cells": [
  {
   "cell_type": "code",
   "execution_count": 6,
   "metadata": {},
   "outputs": [],
   "source": [
    "#------------------------------importing library---------------------------------------\n",
    "from dateutil.parser import parse\n",
    "import numpy as np\n",
    "import pandas as pd\n",
    "import pickle\n",
    "# from bpemb import BPEmb\n",
    "import pytesseract\n",
    "import cv2\n",
    "import glob\n",
    "%matplotlib notebook\n",
    "import matplotlib.pyplot as plt\n",
    "from PIL import Image\n",
    "from bs4 import BeautifulSoup\n",
    "import re\n",
    "from timeit import default_timer as timer\n"
   ]
  },
  {
   "cell_type": "code",
   "execution_count": 8,
   "metadata": {},
   "outputs": [],
   "source": [
    "text_path = \"C:/Users/Sanjeev/Downloads/software/0325updated.task2train(626p)-20200414T125907Z-001/0325updated.task2train(626p)/*.txt\"\n",
    "img_path = \"C:/Users/Sanjeev/Downloads/software/0325updated.task2train(626p)-20200414T125907Z-001/0325updated.task2train(626p)/*.jpg\"\n",
    "tesseract_path = 'C:/python_lib/ocr/tesseract.exe'\n",
    "pytesseract.pytesseract.tesseract_cmd = 'C:/python_lib/ocr/tesseract.exe'\n",
    "file_save_path='C:/Users/Sanjeev/Documents/Python Scripts/Dataset/label_data/'"
   ]
  },
  {
   "cell_type": "code",
   "execution_count": 13,
   "metadata": {},
   "outputs": [],
   "source": [
    "text_file = glob.glob(text_path)\n",
    "img_file = glob.glob(img_path)"
   ]
  },
  {
   "cell_type": "code",
   "execution_count": 11,
   "metadata": {
    "code_folding": [
     0,
     4,
     8
    ]
   },
   "outputs": [],
   "source": [
    "def SaveData(data,path):\n",
    "    with open(path,'wb') as file:\n",
    "        pickle.dump(data,file)\n",
    "\n",
    "def LoadData(path):\n",
    "    with open(path, 'rb') as file:\n",
    "        return pickle.load(file)\n",
    "\n",
    "def display_image(img):\n",
    "    res = isinstance(img, str)\n",
    "    if res:\n",
    "        print('reading image ../n' )\n",
    "        img = cv2.imread(img)  \n",
    "    if len(img.shape) > 2:\n",
    "        plt.imshow(img, cmap='gray')\n",
    "        plt.title(\"Image\")\n",
    "        plt.axis('off')\n",
    "    else:\n",
    "        img=cv2.cvtColor(img,cv2.COLOR_BGR2RGB)\n",
    "        plt.imshow(img)\n",
    "        plt.title(\"RGB Image\")\n",
    "        plt.axis('off')\n"
   ]
  },
  {
   "cell_type": "code",
   "execution_count": 14,
   "metadata": {
    "code_folding": [
     0
    ]
   },
   "outputs": [],
   "source": [
    "def get_ocr_text(img):  \n",
    "    res = isinstance(img, str)\n",
    "    if res:\n",
    "        print('reading image ../n' )\n",
    "        img = cv2.imread(img)  \n",
    "    text = pytesseract.image_to_string(img)\n",
    "#     print(text)\n",
    "    return text\n",
    "\n",
    "# read_data ()-> out data [image_list,ocr_text,out_text,file_name]\n",
    "def read_data(img_path_list, text_path_list, data_no=150):\n",
    "    img_list,ocr_text_list,text_list,file_name_list=[],[],[],[]\n",
    "    j=0\n",
    "    for i in range(data_no):\n",
    "        img_path= img_path_list[i]\n",
    "        img_name = img_path.split(\"\\\\\")[-1]\n",
    "        img_name = img_name.split(\".jpg\")[0]\n",
    "        img_data = cv2.imread(img_path_list[i])\n",
    "        img_list.append(img_data)\n",
    "        ocr_text = get_ocr_text(img_path)\n",
    "        ocr_text_list.append(ocr_text)\n",
    "        text_path = text_path_list[j]\n",
    "        text_name=text_path.split(\"\\\\\")[-1]\n",
    "        text_name = text_name.split('.txt')[0]\n",
    "        while img_name != text_name:\n",
    "            j +=1\n",
    "            print('fileName is not same: ',img_name, text_name)\n",
    "            text_path = text_path_list[j]\n",
    "            text_name=text_path.split(\"\\\\\")[-1]\n",
    "            text_name = text_name.split('.txt')[0]\n",
    "        with open(text_path, 'r') as file:\n",
    "            text_data =file.read()\n",
    "        text_list.append(eval(text_data))\n",
    "        file_name_list.append(img_name)\n",
    "#         data_list.append([img_data,ocr_text,eval(text_data),img_name])    \n",
    "    return img_list,ocr_text_list,text_list,file_name_list\n"
   ]
  },
  {
   "cell_type": "code",
   "execution_count": 16,
   "metadata": {
    "code_folding": []
   },
   "outputs": [],
   "source": [
    "#Creating the treaining sequence for lstm\n",
    "def create_training_seq(input_data,output_data,batch=False):\n",
    "    if not batch:\n",
    "        input_data=[input_data]\n",
    "        output_data=[output_data]\n",
    "    X_list =[]  # for storing the list of input_data sequence\n",
    "    y_list= []\n",
    "    for i in range(len(input_data)):\n",
    "#         print(\"\\n-----------------------------loop \",i,\"---------------------------------\")\n",
    "        in_data= input_data[i]\n",
    "        out_data= output_data[i]\n",
    "        in_list,out_list,temp_list,value_idx,idx =[],[],[],0,1\n",
    "        while idx < len(in_data):\n",
    "    #     for idx in range(1, len(in_data)):    # it will not increase index:  the error \n",
    "            temp_list =temp_list+[in_data[idx-1]]\n",
    "            in_list.append(temp_list)\n",
    "            text= in_data[idx]\n",
    "#            uncomment below line to see output \n",
    "#             print('\\n-->in_list : ',in_list[idx-1])\n",
    "#             print('\\n-->out_list : ',out_list)\n",
    "#             print('idx : ',idx)\n",
    "            if text == out_data[value_idx][1][0]:\n",
    "                out_list.append(out_data[value_idx][0])\n",
    "                j=0\n",
    "#                 while in_data[idx] != out_data[value_idx][1][-1]:\n",
    "                while j < len(out_data[value_idx][1]) and in_data[idx] != out_data[value_idx][1][-1]:\n",
    "                    temp_list =temp_list+[in_data[idx]]\n",
    "                    in_list.append(temp_list)\n",
    "                    out_list.append(in_data[idx])  # todo what should be the output data actural data or extracted one (now). \n",
    "                    idx +=1\n",
    "                    j +=1\n",
    "#                     print('idx : ',idx)\n",
    "                temp_list =temp_list+[in_data[idx]]\n",
    "                in_list.append(temp_list)\n",
    "                out_list.append(in_data[idx])\n",
    "                value_idx +=1\n",
    "            else:\n",
    "                out_list.append('<nothing>')\n",
    "    #         print('in_list : ',in_list[idx-1])\n",
    "    #         print('out_list : ',out_list)\n",
    "            idx +=1\n",
    "#         print('idx : ',idx)\n",
    "        X_list.append(in_list)\n",
    "        y_list.append(out_list)\n",
    "        \n",
    "    if not batch:\n",
    "        return X_list[0],y_list[0] \n",
    "        \n",
    "    return X_list,y_list\n",
    "            "
   ]
  },
  {
   "cell_type": "code",
   "execution_count": 17,
   "metadata": {},
   "outputs": [
    {
     "data": {
      "text/plain": [
       "(876, 735)"
      ]
     },
     "execution_count": 17,
     "metadata": {},
     "output_type": "execute_result"
    }
   ],
   "source": [
    "len(text_file),len(img_file)"
   ]
  },
  {
   "cell_type": "code",
   "execution_count": null,
   "metadata": {},
   "outputs": [],
   "source": []
  }
 ],
 "metadata": {
  "hide_input": false,
  "kernelspec": {
   "display_name": "trevaller_policy",
   "language": "python",
   "name": "trevaller_policy"
  },
  "language_info": {
   "codemirror_mode": {
    "name": "ipython",
    "version": 3
   },
   "file_extension": ".py",
   "mimetype": "text/x-python",
   "name": "python",
   "nbconvert_exporter": "python",
   "pygments_lexer": "ipython3",
   "version": "3.7.7"
  },
  "varInspector": {
   "cols": {
    "lenName": 16,
    "lenType": 16,
    "lenVar": 40
   },
   "kernels_config": {
    "python": {
     "delete_cmd_postfix": "",
     "delete_cmd_prefix": "del ",
     "library": "var_list.py",
     "varRefreshCmd": "print(var_dic_list())"
    },
    "r": {
     "delete_cmd_postfix": ") ",
     "delete_cmd_prefix": "rm(",
     "library": "var_list.r",
     "varRefreshCmd": "cat(var_dic_list()) "
    }
   },
   "types_to_exclude": [
    "module",
    "function",
    "builtin_function_or_method",
    "instance",
    "_Feature"
   ],
   "window_display": false
  }
 },
 "nbformat": 4,
 "nbformat_minor": 2
}
