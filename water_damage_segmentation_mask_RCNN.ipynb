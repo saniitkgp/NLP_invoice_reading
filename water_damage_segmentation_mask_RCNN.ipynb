{
 "cells": [
  {
   "cell_type": "markdown",
   "metadata": {},
   "source": [
    "# This notebook contain :- step 1. Installation of Mask_RCNN in colab, Step Training Mask RCNN for Custom Data"
   ]
  },
  {
   "cell_type": "markdown",
   "metadata": {},
   "source": [
    "# Step 1. Installation of Mask_RCNN in Colab  "
   ]
  },
  {
   "cell_type": "code",
   "execution_count": 1,
   "metadata": {},
   "outputs": [
    {
     "data": {
      "text/plain": [
       "'C:\\\\Users\\\\Sanjeev\\\\Documents\\\\Python Scripts\\\\NLP'"
      ]
     },
     "execution_count": 1,
     "metadata": {},
     "output_type": "execute_result"
    }
   ],
   "source": [
    "# checking working directory\n",
    "%pwd"
   ]
  },
  {
   "cell_type": "code",
   "execution_count": 2,
   "metadata": {
    "collapsed": true
   },
   "outputs": [
    {
     "name": "stdout",
     "output_type": "stream",
     "text": [
      "[WinError 3] The system cannot find the path specified: '/content/drive/My Drive/Colab Notebooks/Accenture_ML_DL/installation'\n",
      "C:\\Users\\Sanjeev\\Documents\\Python Scripts\\NLP\n"
     ]
    }
   ],
   "source": [
    "# move to folder installation \n",
    "%cd /content/drive/My Drive/Colab Notebooks/Accenture_ML_DL/installation"
   ]
  },
  {
   "cell_type": "code",
   "execution_count": null,
   "metadata": {},
   "outputs": [],
   "source": [
    "# download Mask_RCNN from Github\n",
    "!git clone https://github.com/matterport/Mask_RCNN.git"
   ]
  },
  {
   "cell_type": "code",
   "execution_count": null,
   "metadata": {},
   "outputs": [],
   "source": [
    "# move to Mask_RCNN folder\n",
    "%cd ./Mask_RCNN/"
   ]
  },
  {
   "cell_type": "code",
   "execution_count": null,
   "metadata": {},
   "outputs": [],
   "source": [
    "# install Mask_RCNN \n",
    "!python setup.py install"
   ]
  },
  {
   "cell_type": "code",
   "execution_count": null,
   "metadata": {},
   "outputs": [],
   "source": []
  },
  {
   "cell_type": "markdown",
   "metadata": {},
   "source": [
    "# Step 2. Traning Mask_RCNN for custom data"
   ]
  },
  {
   "cell_type": "code",
   "execution_count": null,
   "metadata": {},
   "outputs": [],
   "source": [
    "## it require \n",
    "!pip install keras==2.0.8\n",
    "%tensorflow_version 1.x   #(1.6)"
   ]
  },
  {
   "cell_type": "markdown",
   "metadata": {},
   "source": [
    "## Importing library"
   ]
  },
  {
   "cell_type": "code",
   "execution_count": null,
   "metadata": {},
   "outputs": [],
   "source": [
    "from mrcnn.config import Config\n",
    "from mrcnn import model as modellib\n",
    "from mrcnn import visualize\n",
    "import mrcnn\n",
    "from mrcnn.utils import Dataset\n",
    "from mrcnn.model import MaskRCNN\n",
    "import numpy as np\n",
    "from numpy import zeros\n",
    "from numpy import asarray\n",
    "import colorsys\n",
    "import argparse\n",
    "import imutils\n",
    "import random\n",
    "import cv2\n",
    "import os\n",
    "import time\n",
    "from matplotlib import pyplot\n",
    "from matplotlib.patches import Rectangle\n",
    "from keras.models import load_model\n",
    "%matplotlib inline\n",
    "from os import listdir\n",
    "from xml.etree import ElementTree\n",
    "import glob\n",
    "\n",
    "from keras.callbacks import ModelCheckpoint"
   ]
  },
  {
   "cell_type": "markdown",
   "metadata": {},
   "source": [
    "## Mask RCNN Configur Function"
   ]
  },
  {
   "cell_type": "code",
   "execution_count": null,
   "metadata": {},
   "outputs": [],
   "source": [
    "class myMaskRCNNConfig(Config):\n",
    "    # give the configuration a recognizable name\n",
    "    NAME = \"MaskRCNN_config\"\n",
    "    # set the number of GPUs to use along with the number of images\n",
    "    # per GPU\n",
    "    GPU_COUNT = 1\n",
    "    IMAGES_PER_GPU = 1\n",
    " \n",
    "    # number of classes (we would normally add +1 for the background)\n",
    "     # kangaroo + BG\n",
    "    NUM_CLASSES = 3+1\n",
    "   \n",
    "    # Number of training steps per epoch\n",
    "    STEPS_PER_EPOCH = 98\n",
    "    \n",
    "    # Learning rate\n",
    "    LEARNING_RATE=0.006\n",
    "    \n",
    "    # Skip detections with < 90% confidence\n",
    "    DETECTION_MIN_CONFIDENCE = 0.9\n",
    "    \n",
    "    # setting Max ground truth instances\n",
    "    MAX_GT_INSTANCES=10\n",
    "\n",
    "config = myMaskRCNNConfig()"
   ]
  },
  {
   "cell_type": "code",
   "execution_count": null,
   "metadata": {},
   "outputs": [],
   "source": [
    "config.display()"
   ]
  },
  {
   "cell_type": "markdown",
   "metadata": {},
   "source": [
    "## Dataset Creation Function "
   ]
  },
  {
   "cell_type": "code",
   "execution_count": null,
   "metadata": {},
   "outputs": [],
   "source": [
    "class CreateDataset(Dataset):\n",
    "    # load the dataset definitions\n",
    "    test_image_list = []\n",
    "    train_image_list = []\n",
    "    test_xml_list = []\n",
    "    train_xml_list = []\n",
    "\n",
    "    def load_dataset(self, dataset_dir, class_name=[], split_ratio=.8, is_train=True):\n",
    "        # Add classes. We have only one class to add.\n",
    "        for idx, name in enumerate(class_name):\n",
    "            self.add_class(\"dataset\", idx, name)\n",
    "\n",
    "        # self.add_class(\"dataset\", 2, \"damaged_wall\")\n",
    "        # self.add_class(\"dataset\", 3, \"extrior_roof\")\n",
    "        # define data locations for images and annotations\n",
    "        images_dir = dataset_dir + '/images/'\n",
    "        annotations_dir = dataset_dir + '/annots/'\n",
    "\n",
    "        if is_train:\n",
    "            train_no = int(len(listdir(images_dir))*split_ratio)\n",
    "            print('no of traing data : ', train_no)\n",
    "        else:\n",
    "            train_no = len(listdir(images_dir)) - \\\n",
    "                int(len(listdir(images_dir))*split_ratio)\n",
    "            print('no of Testing data : ', len(listdir(images_dir)) - train_no)\n",
    "        # Iterate through all files in the folder to\n",
    "        # add class, images and annotaions\n",
    "        for image_id, filename in enumerate(listdir(images_dir)):\n",
    "\n",
    "            # extract image id\n",
    "            # image_name = filename[:-4]\n",
    "            image_name = filename.split('.')[0]\n",
    "\n",
    "            # print('extract image id ',image_name)\n",
    "            # skip bad images\n",
    "            if image_name in ['00090']:\n",
    "                continue\n",
    "            # skip all images after 150 if we are building the train set\n",
    "            if is_train and image_id >= train_no:\n",
    "                continue\n",
    "            # skip all images before 150 if we are building the test/val set\n",
    "            if not is_train and image_id < train_no:\n",
    "                continue\n",
    "\n",
    "            # setting image file\n",
    "            img_path = images_dir + filename\n",
    "\n",
    "            # setting annotations file\n",
    "            ann_path = annotations_dir + image_name + '.xml'\n",
    "            if is_train:\n",
    "                self.train_image_list.append(img_path)\n",
    "            else:\n",
    "                self.test_image_list.append(img_path)\n",
    "                self.test_xml_list.append(ann_path)\n",
    "\n",
    "            # print(img_path,'\\n',ann_path,'\\n\\n-->' )\n",
    "            # adding images and annotations to dataset\n",
    "            self.add_image('dataset', image_id=image_id,\n",
    "                           path=img_path, annotation=ann_path)\n",
    " # -------------------------------------modi\n",
    "# extract bounding boxes from an annotation file\n",
    "    # def extract_boxes(self, filename):\n",
    "\n",
    "    #     # load and parse the file\n",
    "    #     tree = ElementTree.parse(filename)\n",
    "    #     # get the root of the document\n",
    "    #     root = tree.getroot()\n",
    "    #     class_name =\n",
    "    #     # extract each bounding box\n",
    "    #     boxes = list()\n",
    "    #     for box in root.findall('.//bndbox'):\n",
    "    #         xmin = int(box.find('xmin').text)\n",
    "    #         ymin = int(box.find('ymin').text)\n",
    "    #         xmax = int(box.find('xmax').text)\n",
    "    #         ymax = int(box.find('ymax').text)\n",
    "    #         coors = [xmin, ymin, xmax, ymax]\n",
    "    #         boxes.append(coors)\n",
    "\n",
    "    #     # extract image dimensions\n",
    "    #     width = int(root.find('.//size/width').text)\n",
    "    #     height = int(root.find('.//size/height').text)\n",
    "    #     return boxes, width, height,class_name\n",
    "\n",
    "# modifed code for bounding box\n",
    "    def extract_boxes(self, filename):\n",
    "\n",
    "        # load and parse the file\n",
    "        tree = ElementTree.parse(filename)\n",
    "        # get the root of the document\n",
    "        root = tree.getroot()\n",
    "        # extract each bounding box\n",
    "        boxes = list()\n",
    "        obj_name = list()\n",
    "        for obj in root.findall('.//object'):\n",
    "            obj_name.append(obj.find('name').text)\n",
    "            box_list = obj.findall('bndbox')\n",
    "            temp = []\n",
    "            for box in box_list[0]:\n",
    "                # print(box.text)\n",
    "                temp.append(int(box.text))\n",
    "            boxes.append(temp)\n",
    "        # extract image dimensions\n",
    "        width = int(root.find('.//size/width').text)\n",
    "        height = int(root.find('.//size/height').text)\n",
    "        return boxes, width, height, obj_name\n",
    "# load the masks for an image\n",
    "    \"\"\"Generate instance masks for an image.\n",
    "       Returns:\n",
    "        masks: A bool array of shape [height, width, instance count] with\n",
    "            one mask per instance.\n",
    "        class_ids: a 1D array of class IDs of the instance masks.\n",
    "     \"\"\"\n",
    "\n",
    "    def load_mask(self, image_id):\n",
    "        # get details of image\n",
    "        info = self.image_info[image_id]\n",
    "\n",
    "        # define anntation  file location\n",
    "        path = info['annotation']\n",
    "\n",
    "        # load XML\n",
    "        boxes, w, h, obj_name = self.extract_boxes(path)\n",
    "\n",
    "        # create one array for all masks, each on a different channel\n",
    "        masks = zeros([h, w, len(boxes)], dtype='uint8')\n",
    "        # print('mask shape : ', masks.shape)\n",
    "        # create masks\n",
    "        class_ids = list()\n",
    "        for i in range(len(boxes)):\n",
    "            # print('i : ',i)\n",
    "            box = boxes[i]\n",
    "            # print('box :',box)\n",
    "            row_s, row_e = box[1], box[3]\n",
    "            col_s, col_e = box[0], box[2]\n",
    "            # print(row_s, row_e, col_s, col_e)\n",
    "            masks[row_s:row_e, col_s:col_e, i] = 1\n",
    "            class_ids.append(self.class_names.index(obj_name[i]))\n",
    "            # print('class id  :', class_ids)\n",
    "        return masks, asarray(class_ids, dtype='int32')\n",
    "# load an image reference\n",
    "# Return the path of the image\n",
    "\n",
    "    def image_reference(self, image_id):\n",
    "        info = self.image_info[image_id]\n",
    "        print(info)\n",
    "        return info['path']"
   ]
  },
  {
   "cell_type": "code",
   "execution_count": null,
   "metadata": {},
   "outputs": [],
   "source": [
    "# prepare train set\n",
    "train_set = CreateDataset()\n",
    "dataset_path='/content/drive/My Drive/Colab Notebooks/Accenture_ML_DL/data/house_dataset'\n",
    "class_name_list =[\"damaged_int_roof\",\"damaged_wall\", \"extrior_roof\"]\n",
    "train_set.load_dataset(dataset_path, class_name=class_name_list,is_train=True)\n",
    "train_set.prepare()\n",
    "print('Train: %d' % len(train_set.image_ids))\n",
    "# prepare test/val set\n",
    "test_set = CreateDataset()\n",
    "test_set.load_dataset(dataset_path,class_name=class_name_list,split_ratio=.20, is_train=False)\n",
    "test_set.prepare()\n",
    "print('Test: %d' % len(test_set.image_ids))"
   ]
  },
  {
   "cell_type": "code",
   "execution_count": null,
   "metadata": {},
   "outputs": [],
   "source": [
    "img_name = [name.split('/')[-1].split('.')[0] for name in glob.glob(\n",
    "    '/content/drive/My Drive/Colab Notebooks/Accenture_ML_DL/data/house_dataset/images/*')]\n",
    "xml_name = [name.split('/')[-1].split('.')[0] for name in glob.glob(\n",
    "    '/content/drive/My Drive/Colab Notebooks/Accenture_ML_DL/data/house_dataset/annots/*')]\n",
    "for i in img_name:\n",
    "    if i not in xml_name:\n",
    "        print(i)"
   ]
  },
  {
   "cell_type": "code",
   "execution_count": null,
   "metadata": {},
   "outputs": [],
   "source": [
    "print(\"Loading Mask R-CNN model...\")\n",
    "model_dir='/content/drive/My Drive/Colab Notebooks/Accenture_ML_DL/data/house_dataset/'\n",
    "model = modellib.MaskRCNN(mode=\"training\", config=config, model_dir=model_dir)"
   ]
  },
  {
   "cell_type": "code",
   "execution_count": null,
   "metadata": {},
   "outputs": [],
   "source": [
    "#load the weights for COCO\n",
    "# weight_path ='/content/drive/My Drive/Colab Notebooks/Accenture_ML_DL/data_to_save/mask_rcnn_house.h5'\n",
    "weight_path ='/content/drive/My Drive/Colab Notebooks/Accenture_ML_DL/data_to_save/mask_rcnn_coco.h5'\n",
    "model.load_weights(weight_path, \n",
    "                   by_name=True, \n",
    "                   exclude=[\"mrcnn_class_logits\", \"mrcnn_bbox_fc\",  \"mrcnn_bbox\", \"mrcnn_mask\"])"
   ]
  },
  {
   "cell_type": "markdown",
   "metadata": {},
   "source": [
    "## Training the model"
   ]
  },
  {
   "cell_type": "code",
   "execution_count": null,
   "metadata": {},
   "outputs": [],
   "source": [
    "## train heads with higher lr to speedup the learning\n",
    "model.train(train_set, test_set, learning_rate=2*config.LEARNING_RATE, epochs=50, layers='heads')\n",
    "history = model.keras_model.history.history"
   ]
  },
  {
   "cell_type": "code",
   "execution_count": null,
   "metadata": {},
   "outputs": [],
   "source": [
    "# import time\n",
    "model_path = model_dir + 'mask_rcnn_'  + 'house.h5'\n",
    "model.keras_model.save_weights(model_path)\n",
    "print('data is saved')"
   ]
  },
  {
   "cell_type": "code",
   "execution_count": null,
   "metadata": {},
   "outputs": [],
   "source": [
    "model_path='/content/drive/My Drive/Colab Notebooks/Accenture_ML_DL/data/house_dataset/maskrcnn_config20200527T1421/mask_rcnn_maskrcnn_config_0003.h5'\n",
    "# model_path='/content/drive/My Drive/Colab Notebooks/Accenture_ML_DL/data_to_save/mask_rcnn_house.h5'\n",
    "from keras.preprocessing.image import load_img\n",
    "from keras.preprocessing.image import img_to_array\n",
    "#Loading the model in the inference mode\n",
    "model = modellib.MaskRCNN(mode=\"inference\", config=config, model_dir=model_dir)\n",
    "# loading the trained weights o the custom dataset\n",
    "model.load_weights(model_path, by_name=True)\n",
    "# img = load_img(\"/content/drive/My Drive/Colab Notebooks/Accenture_ML_DL/data/kangaroo/images/00167.jpg\")\n",
    "# img = img_to_array(img)\n",
    "# # detecting objects in the image\n",
    "# result= model.detect([img])"
   ]
  },
  {
   "cell_type": "markdown",
   "metadata": {},
   "source": [
    "## visualize the result"
   ]
  },
  {
   "cell_type": "code",
   "execution_count": null,
   "metadata": {},
   "outputs": [],
   "source": [
    "# set the image id :- get will \n",
    "image_id = 11\n",
    "image, image_meta, gt_class_id, gt_bbox, gt_mask =    modellib.load_image_gt(test_set, config, image_id, use_mini_mask=False)\n",
    "info = test_set.image_info[image_id]\n",
    "print(\"image ID: {}.{} ({}) {}\".format(info[\"source\"], info[\"id\"], image_id, \n",
    "                                       test_set.image_reference(image_id)))\n",
    "\n",
    "# Run object detection\n",
    "img_path = '/content/drive/My Drive/Colab Notebooks/test3.jpg'\n",
    "# img_path = '/content/drive/My Drive/Colab Notebooks/image12.jpeg'\n",
    "# img_path = '/content/drive/My Drive/Colab Notebooks/House 15.jpg'\n",
    "# img_path='/content/drive/My Drive/Colab Notebooks/Accenture_ML_DL/data/house_dataset/images/House 2.jpg'\n",
    "test_img=cv2.imread(img_path)\n",
    "# if len(test_img.shape) >=3:\n",
    "test_img=cv2.cvtColor(test_img,cv2.COLOR_BGR2RGB)\n",
    "results = model.detect([test_img], verbose=1)\n",
    "# results = model.detect([image], verbose=1)\n",
    "# Display results\n",
    "\n",
    "r = results[0]\n",
    "# print(r)\n",
    "print('class: ', test_set.class_names,'id :',test_set.class_ids,'predicted class : ',r['class_ids'])\n",
    "visualize.display_instances(test_img, r['rois'], r['masks'], r['class_ids'], \n",
    "                            test_set.class_names, r['scores'], \n",
    "                            title=\"Predictions\")\n",
    "\n",
    "# visualize.display_instances(image, r['rois'],gt_mask, gt_class_id, \n",
    "#                             test_set.class_names, r['scores'], \n",
    "#                             title=\"original\")"
   ]
  },
  {
   "cell_type": "code",
   "execution_count": null,
   "metadata": {},
   "outputs": [],
   "source": [
    "# set the image id :- get will \n",
    "image_id = 11\n",
    "image, image_meta, gt_class_id, gt_bbox, gt_mask =    modellib.load_image_gt(test_set, config, image_id, use_mini_mask=False)\n",
    "info = test_set.image_info[image_id]\n",
    "print(\"image ID: {}.{} ({}) {}\".format(info[\"source\"], info[\"id\"], image_id, \n",
    "                                       test_set.image_reference(image_id)))\n",
    "print('class: ', test_set.class_names,'id :',test_set.class_ids,'predicted class : ',gt_class_id)\n",
    "# Run object detection\n",
    "img_path = '/content/drive/My Drive/Colab Notebooks/test.jpg'\n",
    "test_img=cv2.imread(img_path)\n",
    "results = model.detect([test_img], verbose=1)\n",
    "# results = model.detect([image], verbose=1)\n",
    "# Display results\n",
    "\n",
    "r = results[0]\n",
    "visualize.display_instances(image, r['rois'], r['masks'], r['class_ids'], \n",
    "                            test_set.class_names, r['scores'], \n",
    "                            title=\"Predictions\")\n",
    "\n",
    "visualize.display_instances(image, r['rois'],gt_mask, gt_class_id, \n",
    "                            test_set.class_names, r['scores'], \n",
    "                            title=\"original\")"
   ]
  },
  {
   "cell_type": "code",
   "execution_count": null,
   "metadata": {},
   "outputs": [],
   "source": [
    "model_path = model_dir + 'mask_rcnn_'  + 'house.h5'\n",
    "checkpoint = ModelCheckpoint(model_path, monitor='loss', verbose=1,save_best_only=True, mode='auto', period=1)\n",
    "\n",
    "\n",
    "## train heads with higher lr to speedup the learning\n",
    "model.train(train_set, test_set, learning_rate=2*config.LEARNING_RATE, epochs=2000, layers='heads',custom_callbacks=[checkpoint])\n",
    "history = model.keras_model.history.history"
   ]
  },
  {
   "cell_type": "code",
   "execution_count": null,
   "metadata": {},
   "outputs": [],
   "source": []
  },
  {
   "cell_type": "code",
   "execution_count": null,
   "metadata": {},
   "outputs": [],
   "source": []
  },
  {
   "cell_type": "code",
   "execution_count": null,
   "metadata": {},
   "outputs": [],
   "source": []
  },
  {
   "cell_type": "code",
   "execution_count": null,
   "metadata": {},
   "outputs": [],
   "source": []
  },
  {
   "cell_type": "code",
   "execution_count": null,
   "metadata": {},
   "outputs": [],
   "source": []
  },
  {
   "cell_type": "code",
   "execution_count": null,
   "metadata": {},
   "outputs": [],
   "source": []
  },
  {
   "cell_type": "code",
   "execution_count": null,
   "metadata": {},
   "outputs": [],
   "source": [
    "# class k_myMaskRCNNConfig(Config):\n",
    "#     # give the configuration a recognizable name\n",
    "#     NAME = \"MaskRCNN_config\"\n",
    "#     # set the number of GPUs to use along with the number of images\n",
    "#     # per GPU\n",
    "#     GPU_COUNT = 1\n",
    "#     IMAGES_PER_GPU = 1\n",
    " \n",
    "#     # number of classes (we would normally add +1 for the background)\n",
    "#      # kangaroo + BG\n",
    "#     NUM_CLASSES = 1+1\n",
    "   \n",
    "#     # Number of training steps per epoch\n",
    "#     STEPS_PER_EPOCH = 131\n",
    "    \n",
    "#     # Learning rate\n",
    "#     LEARNING_RATE=0.006\n",
    "    \n",
    "#     # Skip detections with < 90% confidence\n",
    "#     DETECTION_MIN_CONFIDENCE = 0.9\n",
    "    \n",
    "#     # setting Max ground truth instances\n",
    "#     MAX_GT_INSTANCES=10\n",
    "\n",
    "\n",
    "\n",
    "# k_config = k_myMaskRCNNConfig()\n",
    "# k_config.display()\n",
    "\n",
    "# # model testing \n",
    "\n",
    "# # prepare train set\n",
    "# k_train_set = CreateDataset()\n",
    "# dataset_path='/content/drive/My Drive/Colab Notebooks/Accenture_ML_DL/data/kangaroo'\n",
    "# class_name_list=['kangaroo']\n",
    "# k_train_set.load_dataset(dataset_path, class_name=class_name_list,is_train=True)\n",
    "# k_train_set.prepare()\n",
    "# print('Train: %d' % len(k_train_set.image_ids))\n",
    "# # prepare test/val set\n",
    "# k_test_set = CreateDataset()\n",
    "# k_test_set.load_dataset(dataset_path,class_name=class_name_list,split_ratio=.20, is_train=False)\n",
    "# k_test_set.prepare()\n",
    "# print('Test: %d' % len(k_test_set.image_ids))\n",
    "\n",
    "\n",
    "\n",
    "# print(\"Loading Mask R-CNN model...\")\n",
    "# k_model_dir='/content/drive/My Drive/Colab Notebooks/Accenture_ML_DL/data/kangaroo/'\n",
    "# k_model = modellib.MaskRCNN(mode=\"training\", config=k_config, model_dir=k_model_dir)\n",
    "\n",
    "# #load the weights for COCO\n",
    "# k_model.load_weights('/content/drive/My Drive/Colab Notebooks/Accenture_ML_DL/data_to_save/mask_rcnn_coco.h5', \n",
    "#                    by_name=True, \n",
    "#                    exclude=[\"mrcnn_class_logits\", \"mrcnn_bbox_fc\",  \"mrcnn_bbox\", \"mrcnn_mask\"])\n",
    "\n",
    "# ## train heads with higher lr to speedup the learning\n",
    "# k_model.train(k_train_set, k_test_set, learning_rate=2*config.LEARNING_RATE, epochs=3, layers='heads')\n",
    "# k_history = k_model.keras_model.history.history\n",
    "\n",
    "# # import time\n",
    "# k_model_path = k_model_dir + 'mask_rcnn_'  + 'kangaroo.h5'\n",
    "# k_model.keras_model.save_weights(k_model_path)\n",
    "# print('data is saved')\n",
    "\n",
    "# k_model_path= '/content/drive/My Drive/Colab Notebooks/Accenture_ML_DL/data_to_save/mask_rcnn_Kangaroo.h5'\n",
    "# from keras.preprocessing.image import load_img\n",
    "# from keras.preprocessing.image import img_to_array\n",
    "# #Loading the model in the inference mode\n",
    "# K_model = modellib.MaskRCNN(mode=\"inference\", config=k_config, model_dir=k_model_dir)\n",
    "# # loading the trained weights o the custom dataset\n",
    "# K_model.load_weights(k_model_path, by_name=True)\n",
    "# # img = load_img(\"/content/drive/My Drive/Colab Notebooks/Accenture_ML_DL/data/kangaroo/images/00167.jpg\")\n",
    "# # img = img_to_array(img)\n",
    "# # # detecting objects in the image\n",
    "# # result= model.detect([img])\n",
    "# # set the image id :- get will \n",
    "\n",
    "# image_id = 20\n",
    "# image, image_meta, gt_class_id, gt_bbox, gt_mask =    modellib.load_image_gt(k_test_set, k_config, image_id, use_mini_mask=False)\n",
    "# info = k_test_set.image_info[image_id]\n",
    "# print(\"image ID: {}.{} ({}) {}\".format(info[\"source\"], info[\"id\"], image_id, \n",
    "#                                        k_test_set.image_reference(image_id)))\n",
    "# # Run object detection\n",
    "# k_results = K_model.detect([image], verbose=1)\n",
    "# # Display results\n",
    "\n",
    "# k_r = k_results[0]\n",
    "# visualize.display_instances(image, k_r['rois'], k_r['masks'], k_r['class_ids'], \n",
    "#                             k_test_set.class_names, k_r['scores'], \n",
    "#                             title=\"Predictions\")\n",
    "\n",
    "# visualize.display_instances(image, k_r['rois'],gt_mask, gt_class_id, \n",
    "#                             k_test_set.class_names, k_r['scores'], \n",
    "#                             title=\"original\")\n",
    "\n",
    "# !rm -rf /content/drive/My Drive/Colab Notebooks/Accenture_ML_DL/data/kangaroo/maskrcnn_config20200527T1226"
   ]
  }
 ],
 "metadata": {
  "hide_input": false,
  "kernelspec": {
   "display_name": "trevaller_policy",
   "language": "python",
   "name": "trevaller_policy"
  },
  "language_info": {
   "codemirror_mode": {
    "name": "ipython",
    "version": 3
   },
   "file_extension": ".py",
   "mimetype": "text/x-python",
   "name": "python",
   "nbconvert_exporter": "python",
   "pygments_lexer": "ipython3",
   "version": "3.7.7"
  },
  "varInspector": {
   "cols": {
    "lenName": 16,
    "lenType": 16,
    "lenVar": 40
   },
   "kernels_config": {
    "python": {
     "delete_cmd_postfix": "",
     "delete_cmd_prefix": "del ",
     "library": "var_list.py",
     "varRefreshCmd": "print(var_dic_list())"
    },
    "r": {
     "delete_cmd_postfix": ") ",
     "delete_cmd_prefix": "rm(",
     "library": "var_list.r",
     "varRefreshCmd": "cat(var_dic_list()) "
    }
   },
   "types_to_exclude": [
    "module",
    "function",
    "builtin_function_or_method",
    "instance",
    "_Feature"
   ],
   "window_display": false
  }
 },
 "nbformat": 4,
 "nbformat_minor": 2
}
