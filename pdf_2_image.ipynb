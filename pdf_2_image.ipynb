{
 "cells": [
  {
   "cell_type": "code",
   "execution_count": 1,
   "metadata": {},
   "outputs": [],
   "source": [
    "import glob\n",
    "from pdf2image import convert_from_path\n",
    "import pandas as pd\n",
    "import pytesseract\n",
    "from bs4 import BeautifulSoup\n",
    "import pickle\n",
    "import cv2\n",
    "import matplotlib.pyplot as plt"
   ]
  },
  {
   "cell_type": "code",
   "execution_count": 2,
   "metadata": {},
   "outputs": [],
   "source": [
    "pdf_path = \"C:/Users/Sanjeev/Documents/Python Scripts/Image_preprocessing/Client Samples/*.pdf\"\n",
    "poppler_path = 'C:/python_lib/poppler-0.68.0/bin'\n",
    "save_folder = \"C:/Users/Sanjeev/Documents/Python Scripts/Image_preprocessing/Client Samples/\"\n",
    "img_file_path = \"C:/Users/Sanjeev/Documents/Python Scripts/NLP/Image_preprocessing/output_image/*.png\"\n",
    "# tesseract_path ='C:/python_lib/ocr/tesseract.exe'\n",
    "# data_path = \"C:/Users/Sanjeev/Documents/Python Scripts/Dataset/df_word_list\"\n",
    "# pytesseract.pytesseract.tesseract_cmd = 'C:/python_lib/ocr/tesseract.exe'"
   ]
  },
  {
   "cell_type": "code",
   "execution_count": 11,
   "metadata": {
    "code_folding": []
   },
   "outputs": [],
   "source": [
    "def convert_pdf2image(pdf_path, output_path, poppler_path):\n",
    "    file_path = glob.glob(pdf_path)\n",
    "#     img_list=[]\n",
    "    for file in file_path:\n",
    "        print('file name : ',file)\n",
    "        images = convert_from_path(file, 300, poppler_path=poppler_path)\n",
    "        img_name= file.split(\"\\\\\")[1]\n",
    "        img_name=img_name.split('.')[0]\n",
    "        for idx,image in enumerate(images):\n",
    "#             img_name = output_path+str(idx)+'_'+img_name+'.png'\n",
    "            print('img_name : ',output_path+str(idx)+'_'+img_name+'.png')\n",
    "            image.save(output_path+str(idx)+'_'+img_name+'.png', 'PNG')\n",
    "#             img_list.append(images)\n",
    "    \n",
    "    print('convertion done')"
   ]
  },
  {
   "cell_type": "code",
   "execution_count": 12,
   "metadata": {
    "code_folding": [
     0,
     15
    ]
   },
   "outputs": [],
   "source": [
    "def display_image(img,img_title='Image'):\n",
    "    res = isinstance(img, str)\n",
    "    if res:\n",
    "        print('reading image ../n' )\n",
    "        img = cv2.imread(img)  \n",
    "    if len(img.shape) > 2:\n",
    "        plt.imshow(img, cmap='gray')\n",
    "        plt.title(img_title+str('Gray'))\n",
    "        plt.axis('off')\n",
    "    else:\n",
    "        img=cv2.cvtColor(img,cv2.COLOR_BGR2RGB)\n",
    "        plt.imshow(img)\n",
    "        plt.title(img_title+str('Color'))\n",
    "        plt.axis('off')\n",
    "\n",
    "def display_image_cv(img,window_name='Image'):\n",
    "    res = isinstance(img, str)\n",
    "    if res:\n",
    "        img = cv2.imread(img)\n",
    "        \n",
    "    cv2.namedWindow(window_name, cv2.WINDOW_NORMAL)\n",
    "    cv2.imshow(window_name, img)"
   ]
  },
  {
   "cell_type": "code",
   "execution_count": null,
   "metadata": {},
   "outputs": [
    {
     "name": "stdout",
     "output_type": "stream",
     "text": [
      "file name :  C:/Users/Sanjeev/Documents/Python Scripts/Image_preprocessing/Client Samples\\Cancel 3.pdf\n"
     ]
    }
   ],
   "source": [
    "convert_pdf2image(pdf_path,save_folder,poppler_path)"
   ]
  }
 ],
 "metadata": {
  "hide_input": false,
  "kernelspec": {
   "display_name": "trevaller_policy",
   "language": "python",
   "name": "trevaller_policy"
  },
  "language_info": {
   "codemirror_mode": {
    "name": "ipython",
    "version": 3
   },
   "file_extension": ".py",
   "mimetype": "text/x-python",
   "name": "python",
   "nbconvert_exporter": "python",
   "pygments_lexer": "ipython3",
   "version": "3.7.7"
  },
  "varInspector": {
   "cols": {
    "lenName": 16,
    "lenType": 16,
    "lenVar": 40
   },
   "kernels_config": {
    "python": {
     "delete_cmd_postfix": "",
     "delete_cmd_prefix": "del ",
     "library": "var_list.py",
     "varRefreshCmd": "print(var_dic_list())"
    },
    "r": {
     "delete_cmd_postfix": ") ",
     "delete_cmd_prefix": "rm(",
     "library": "var_list.r",
     "varRefreshCmd": "cat(var_dic_list()) "
    }
   },
   "types_to_exclude": [
    "module",
    "function",
    "builtin_function_or_method",
    "instance",
    "_Feature"
   ],
   "window_display": false
  }
 },
 "nbformat": 4,
 "nbformat_minor": 2
}
