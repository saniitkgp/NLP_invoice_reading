{
 "cells": [
  {
   "cell_type": "code",
   "execution_count": 30,
   "metadata": {},
   "outputs": [],
   "source": [
    "import glob\n",
    "from pdf2image import convert_from_path\n",
    "import pandas as pd\n",
    "import pytesseract\n",
    "from bs4 import BeautifulSoup\n",
    "import pickle\n",
    "import cv2\n",
    "import matplotlib.pyplot as plt"
   ]
  },
  {
   "cell_type": "code",
   "execution_count": 45,
   "metadata": {},
   "outputs": [],
   "source": [
    "pdf_path = \"C:/Users/Sanjeev/Documents/Python Scripts/Image_preprocessing/Client Samples/*.pdf\"\n",
    "# pdf_path= \"C:/Users/Sanjeev/Documents/Accenture office/automorphism partition.pdf\"\n",
    "poppler_path = 'C:/python_lib/poppler-0.68.0/bin'\n",
    "save_folder = \"C:/Users/Sanjeev/Documents/Python Scripts/Image_preprocessing/Client Samples/\"\n",
    "img_file_path = \"C:/Users/Sanjeev/Documents/Python Scripts/NLP/Image_preprocessing/output_image/*.png\"\n",
    "# tesseract_path ='C:/python_lib/ocr/tesseract.exe'\n",
    "# data_path = \"C:/Users/Sanjeev/Documents/Python Scripts/Dataset/df_word_list\"\n",
    "# pytesseract.pytesseract.tesseract_cmd = 'C:/python_lib/ocr/tesseract.exe'"
   ]
  },
  {
   "cell_type": "code",
   "execution_count": 48,
   "metadata": {
    "code_folding": []
   },
   "outputs": [],
   "source": [
    "def convert_pdf2image(pdf_path, output_path, poppler_path):\n",
    "    file_path = glob.glob(pdf_path)\n",
    "#     img_list=[]\n",
    "    for file in file_path:\n",
    "        print('file name : ',file)\n",
    "        images = convert_from_path(file, 300, poppler_path=poppler_path)\n",
    "        print('writing start : ....')\n",
    "        img_name= file.split(\"\\\\\")[-1]\n",
    "        img_name=img_name.split('.')[0]\n",
    "        for idx,image in enumerate(images):\n",
    "#             img_name = output_path+str(idx)+'_'+img_name+'.png'\n",
    "            print('img_name : ',output_path+str(idx)+'_'+img_name+'.png')\n",
    "            image.save(output_path+str(idx)+'_'+img_name+'.png', 'PNG')\n",
    "#             img_list.append(images)\n",
    "    \n",
    "    print('convertion done')"
   ]
  },
  {
   "cell_type": "code",
   "execution_count": 47,
   "metadata": {
    "code_folding": [
     0,
     15
    ]
   },
   "outputs": [],
   "source": [
    "def display_image(img,img_title='Image'):\n",
    "    res = isinstance(img, str)\n",
    "    if res:\n",
    "        print('reading image ../n' )\n",
    "        img = cv2.imread(img)  \n",
    "    if len(img.shape) > 2:\n",
    "        plt.imshow(img, cmap='gray')\n",
    "        plt.title(img_title+str('Gray'))\n",
    "        plt.axis('off')\n",
    "    else:\n",
    "        img=cv2.cvtColor(img,cv2.COLOR_BGR2RGB)\n",
    "        plt.imshow(img)\n",
    "        plt.title(img_title+str('Color'))\n",
    "        plt.axis('off')\n",
    "\n",
    "def display_image_cv(img,window_name='Image'):\n",
    "    res = isinstance(img, str)\n",
    "    if res:\n",
    "        img = cv2.imread(img)\n",
    "        \n",
    "    cv2.namedWindow(window_name, cv2.WINDOW_NORMAL)\n",
    "    cv2.imshow(window_name, img)"
   ]
  },
  {
   "cell_type": "code",
   "execution_count": null,
   "metadata": {},
   "outputs": [
    {
     "name": "stdout",
     "output_type": "stream",
     "text": [
      "file name :  C:/Users/Sanjeev/Documents/Python Scripts/Image_preprocessing/Client Samples\\Cancel 3.pdf\n"
     ]
    },
    {
     "name": "stderr",
     "output_type": "stream",
     "text": [
      "Exception in thread Thread-28:\n",
      "Traceback (most recent call last):\n",
      "  File \"C:\\installation\\envs\\trevaller_policy\\lib\\threading.py\", line 926, in _bootstrap_inner\n",
      "    self.run()\n",
      "  File \"C:\\installation\\envs\\trevaller_policy\\lib\\threading.py\", line 870, in run\n",
      "    self._target(*self._args, **self._kwargs)\n",
      "  File \"C:\\installation\\envs\\trevaller_policy\\lib\\subprocess.py\", line 1267, in _readerthread\n",
      "    buffer.append(fh.read())\n",
      "MemoryError\n",
      "\n"
     ]
    }
   ],
   "source": [
    "convert_pdf2image(pdf_path,save_folder,poppler_path)"
   ]
  },
  {
   "cell_type": "code",
   "execution_count": null,
   "metadata": {},
   "outputs": [],
   "source": []
  },
  {
   "cell_type": "code",
   "execution_count": null,
   "metadata": {},
   "outputs": [],
   "source": []
  },
  {
   "cell_type": "code",
   "execution_count": null,
   "metadata": {},
   "outputs": [],
   "source": []
  },
  {
   "cell_type": "code",
   "execution_count": null,
   "metadata": {},
   "outputs": [],
   "source": []
  },
  {
   "cell_type": "code",
   "execution_count": 1,
   "metadata": {},
   "outputs": [],
   "source": [
    "import cv2\n",
    "import os\n",
    "import sys\n",
    "from pdf2jpg import pdf2jpg\n",
    "import pytesseract\n",
    "import pickle\n",
    "from pathlib import Path\n",
    "import shutil\n",
    "import sys\n",
    "import glob\n"
   ]
  },
  {
   "cell_type": "code",
   "execution_count": 34,
   "metadata": {},
   "outputs": [],
   "source": [
    "pdf_path = \"C:/Users/Sanjeev/Documents/Python Scripts/Image_preprocessing/Client Samples/*.pdf\"\n",
    "save_folder = \"C:/Users/Sanjeev/Documents/Python Scripts/Image_preprocessing/Client Samples/\""
   ]
  },
  {
   "cell_type": "code",
   "execution_count": 10,
   "metadata": {},
   "outputs": [],
   "source": [
    "pdf_path = \"C://Users//Sanjeev//Documents//Python Scripts//Image_preprocessing//Client Samples//Cancel 3.pdf\"\n",
    "save_folder = \"C://Users//Sanjeev//Documents//Python Scripts//Image_preprocessing//Client Samples//\""
   ]
  },
  {
   "cell_type": "code",
   "execution_count": 11,
   "metadata": {},
   "outputs": [
    {
     "name": "stdout",
     "output_type": "stream",
     "text": [
      "[WinError 2] The system cannot find the file specified\n"
     ]
    }
   ],
   "source": [
    "result = pdf2jpg.convert_pdf2jpg(pdf_path, save_folder, dpi=300, pages=\"ALL\")"
   ]
  },
  {
   "cell_type": "code",
   "execution_count": 38,
   "metadata": {},
   "outputs": [
    {
     "data": {
      "text/plain": [
       "8"
      ]
     },
     "execution_count": 38,
     "metadata": {},
     "output_type": "execute_result"
    }
   ],
   "source": [
    "pdf_path_list = glob.glob(pdf_path)\n",
    "len(pdf_path_list)"
   ]
  },
  {
   "cell_type": "code",
   "execution_count": 33,
   "metadata": {},
   "outputs": [
    {
     "name": "stdout",
     "output_type": "stream",
     "text": [
      "C:\\Users\\Sanjeev\\Documents\\Python Scripts\\Image_preprocessing\\Client Samples\\Cancel 3.pdf\n",
      "[WinError 2] The system cannot find the file specified\n",
      "done\n"
     ]
    }
   ],
   "source": [
    "save_folder = Path(save_folder)\n",
    "for file_path in pdf_path_list:\n",
    "    inputpath=Path(file_path)\n",
    "    print(inputpath)\n",
    "    result = pdf2jpg.convert_pdf2jpg(inputpath, save_folder, dpi=300, pages=\"ALL\")\n",
    "    print('done')\n",
    "    break\n",
    "    "
   ]
  },
  {
   "cell_type": "code",
   "execution_count": 25,
   "metadata": {},
   "outputs": [
    {
     "name": "stdout",
     "output_type": "stream",
     "text": [
      "C:\\Users\\Sanjeev\\Documents\\Python Scripts\\Image_preprocessing\\Client Samples\\Cancel 3.pdf\n"
     ]
    }
   ],
   "source": [
    "inp_path = Path(pdf_path_list[0])\n",
    "print(inp_path)"
   ]
  },
  {
   "cell_type": "code",
   "execution_count": 23,
   "metadata": {},
   "outputs": [
    {
     "name": "stdout",
     "output_type": "stream",
     "text": [
      "C:/Users/Sanjeev/Documents/Python Scripts/Image_preprocessing/Client Samples/Cancel 3.pdf\n"
     ]
    }
   ],
   "source": [
    "inputpath=pdf_path_list[0]\n",
    "inputpath='C:/Users/Sanjeev/Documents/Python Scripts/Image_preprocessing/Client Samples/Cancel 3.pdf'\n",
    "print(inputpath)"
   ]
  },
  {
   "cell_type": "code",
   "execution_count": 21,
   "metadata": {},
   "outputs": [
    {
     "ename": "SyntaxError",
     "evalue": "(unicode error) 'unicodeescape' codec can't decode bytes in position 2-3: truncated \\UXXXXXXXX escape (<ipython-input-21-d503c573ff28>, line 2)",
     "output_type": "error",
     "traceback": [
      "\u001b[1;36m  File \u001b[1;32m\"<ipython-input-21-d503c573ff28>\"\u001b[1;36m, line \u001b[1;32m2\u001b[0m\n\u001b[1;33m    inputpath='C:\\Users\\Sanjeev\\Documents\\Python Scripts\\Image_preprocessing\\Client Samples\\Cancel 3.pdf'\u001b[0m\n\u001b[1;37m             ^\u001b[0m\n\u001b[1;31mSyntaxError\u001b[0m\u001b[1;31m:\u001b[0m (unicode error) 'unicodeescape' codec can't decode bytes in position 2-3: truncated \\UXXXXXXXX escape\n"
     ]
    }
   ],
   "source": [
    "result = pdf2jpg.convert_pdf2jpg(inputpath, save_folder, dpi=300, pages=\"ALL\")"
   ]
  },
  {
   "cell_type": "code",
   "execution_count": 56,
   "metadata": {},
   "outputs": [
    {
     "name": "stdout",
     "output_type": "stream",
     "text": [
      "[WinError 2] The system cannot find the file specified\n",
      "[WinError 2] The system cannot find the file specified\n",
      "[WinError 2] The system cannot find the file specified\n",
      "[WinError 2] The system cannot find the file specified\n",
      "[WinError 2] The system cannot find the file specified\n",
      "[WinError 2] The system cannot find the file specified\n",
      "[WinError 2] The system cannot find the file specified\n",
      "[WinError 2] The system cannot find the file specified\n"
     ]
    },
    {
     "ename": "FileNotFoundError",
     "evalue": "[WinError 3] The system cannot find the path specified: 'C:\\\\Users\\\\Sanjeev\\\\Documents\\\\Python Scripts\\\\Image_preprocessing\\\\Client Samples/tmp/Cancel 3.pdf/Cancel 3.pdf_dir'",
     "output_type": "error",
     "traceback": [
      "\u001b[1;31m---------------------------------------------------------------------------\u001b[0m",
      "\u001b[1;31mFileNotFoundError\u001b[0m                         Traceback (most recent call last)",
      "\u001b[1;32m<ipython-input-56-bedb78f3ba4a>\u001b[0m in \u001b[0;36m<module>\u001b[1;34m\u001b[0m\n\u001b[0;32m     19\u001b[0m \u001b[1;33m\u001b[0m\u001b[0m\n\u001b[0;32m     20\u001b[0m \u001b[0mpath\u001b[0m \u001b[1;33m=\u001b[0m\u001b[1;34mr\"C:\\Users\\Sanjeev\\Documents\\Python Scripts\\Image_preprocessing\\Client Samples\"\u001b[0m\u001b[1;33m\u001b[0m\u001b[1;33m\u001b[0m\u001b[0m\n\u001b[1;32m---> 21\u001b[1;33m \u001b[0mPdftoJpg\u001b[0m\u001b[1;33m(\u001b[0m\u001b[0mpath\u001b[0m\u001b[1;33m)\u001b[0m\u001b[1;33m\u001b[0m\u001b[1;33m\u001b[0m\u001b[0m\n\u001b[0m",
      "\u001b[1;32m<ipython-input-56-bedb78f3ba4a>\u001b[0m in \u001b[0;36mPdftoJpg\u001b[1;34m(inp_path)\u001b[0m\n\u001b[0;32m      6\u001b[0m     \u001b[0mfilenames\u001b[0m \u001b[1;33m=\u001b[0m \u001b[1;33m[\u001b[0m\u001b[0mx\u001b[0m \u001b[1;32mfor\u001b[0m \u001b[0mx\u001b[0m \u001b[1;32min\u001b[0m \u001b[0mos\u001b[0m\u001b[1;33m.\u001b[0m\u001b[0mlistdir\u001b[0m\u001b[1;33m(\u001b[0m\u001b[0minp_path\u001b[0m\u001b[1;33m)\u001b[0m \u001b[1;32mif\u001b[0m \u001b[0mx\u001b[0m\u001b[1;33m.\u001b[0m\u001b[0mendswith\u001b[0m\u001b[1;33m(\u001b[0m\u001b[1;34m'.pdf'\u001b[0m\u001b[1;33m)\u001b[0m\u001b[1;33m]\u001b[0m\u001b[1;33m\u001b[0m\u001b[1;33m\u001b[0m\u001b[0m\n\u001b[0;32m      7\u001b[0m     \u001b[0mx\u001b[0m \u001b[1;33m=\u001b[0m \u001b[1;33m[\u001b[0m\u001b[0mpdf2jpg\u001b[0m\u001b[1;33m.\u001b[0m\u001b[0mconvert_pdf2jpg\u001b[0m\u001b[1;33m(\u001b[0m\u001b[0mstr\u001b[0m\u001b[1;33m(\u001b[0m\u001b[0minp_path\u001b[0m\u001b[1;33m)\u001b[0m\u001b[1;33m+\u001b[0m\u001b[1;34m'/'\u001b[0m\u001b[1;33m+\u001b[0m\u001b[0mfilename\u001b[0m\u001b[1;33m,\u001b[0m \u001b[0mstr\u001b[0m\u001b[1;33m(\u001b[0m\u001b[0mout_path\u001b[0m\u001b[1;33m)\u001b[0m\u001b[1;33m+\u001b[0m\u001b[1;34m'/'\u001b[0m\u001b[1;33m+\u001b[0m\u001b[0mfilename\u001b[0m\u001b[1;33m,\u001b[0m \u001b[0mpages\u001b[0m\u001b[1;33m=\u001b[0m\u001b[1;34m\"ALL\"\u001b[0m\u001b[1;33m)\u001b[0m \u001b[1;32mfor\u001b[0m \u001b[0mfilename\u001b[0m \u001b[1;32min\u001b[0m \u001b[0mfilenames\u001b[0m\u001b[1;33m]\u001b[0m\u001b[1;33m\u001b[0m\u001b[1;33m\u001b[0m\u001b[0m\n\u001b[1;32m----> 8\u001b[1;33m     \u001b[0my\u001b[0m \u001b[1;33m=\u001b[0m \u001b[1;33m[\u001b[0m\u001b[1;33m[\u001b[0m\u001b[0mshutil\u001b[0m\u001b[1;33m.\u001b[0m\u001b[0mmove\u001b[0m\u001b[1;33m(\u001b[0m\u001b[0mstr\u001b[0m\u001b[1;33m(\u001b[0m\u001b[0mout_path\u001b[0m\u001b[1;33m)\u001b[0m\u001b[1;33m+\u001b[0m\u001b[1;34m'/'\u001b[0m\u001b[1;33m+\u001b[0m\u001b[0mfilename\u001b[0m\u001b[1;33m+\u001b[0m\u001b[1;34m'/'\u001b[0m\u001b[1;33m+\u001b[0m\u001b[0mfilename\u001b[0m\u001b[1;33m+\u001b[0m\u001b[1;34m'_dir'\u001b[0m\u001b[1;33m+\u001b[0m\u001b[1;34m'/'\u001b[0m\u001b[1;33m+\u001b[0m \u001b[0mfile\u001b[0m\u001b[1;33m,\u001b[0m\u001b[0mstr\u001b[0m\u001b[1;33m(\u001b[0m\u001b[0mout_path\u001b[0m\u001b[1;33m)\u001b[0m\u001b[1;33m+\u001b[0m\u001b[1;34m'/'\u001b[0m\u001b[1;33m+\u001b[0m\u001b[0mfilename\u001b[0m\u001b[1;33m+\u001b[0m\u001b[1;34m'/'\u001b[0m\u001b[1;33m+\u001b[0m \u001b[0mfile\u001b[0m\u001b[1;33m)\u001b[0m \u001b[1;32mfor\u001b[0m \u001b[0mfile\u001b[0m \u001b[1;32min\u001b[0m \u001b[0mos\u001b[0m\u001b[1;33m.\u001b[0m\u001b[0mlistdir\u001b[0m\u001b[1;33m(\u001b[0m\u001b[0mstr\u001b[0m\u001b[1;33m(\u001b[0m\u001b[0mout_path\u001b[0m\u001b[1;33m)\u001b[0m\u001b[1;33m+\u001b[0m\u001b[1;34m'/'\u001b[0m\u001b[1;33m+\u001b[0m\u001b[0mfilename\u001b[0m\u001b[1;33m+\u001b[0m\u001b[1;34m'/'\u001b[0m\u001b[1;33m+\u001b[0m\u001b[0mfilename\u001b[0m\u001b[1;33m+\u001b[0m\u001b[1;34m'_dir'\u001b[0m\u001b[1;33m)\u001b[0m\u001b[1;33m]\u001b[0m \u001b[1;32mfor\u001b[0m \u001b[0mfilename\u001b[0m \u001b[1;32min\u001b[0m \u001b[0mfilenames\u001b[0m\u001b[1;33m]\u001b[0m\u001b[1;33m\u001b[0m\u001b[1;33m\u001b[0m\u001b[0m\n\u001b[0m\u001b[0;32m      9\u001b[0m \u001b[1;31m#     inp2 = [str(out_path)+'/'+filename+'/' for filename in filenames]\u001b[0m\u001b[1;33m\u001b[0m\u001b[1;33m\u001b[0m\u001b[1;33m\u001b[0m\u001b[0m\n\u001b[0;32m     10\u001b[0m \u001b[1;31m#     for inp in inp2:\u001b[0m\u001b[1;33m\u001b[0m\u001b[1;33m\u001b[0m\u001b[1;33m\u001b[0m\u001b[0m\n",
      "\u001b[1;32m<ipython-input-56-bedb78f3ba4a>\u001b[0m in \u001b[0;36m<listcomp>\u001b[1;34m(.0)\u001b[0m\n\u001b[0;32m      6\u001b[0m     \u001b[0mfilenames\u001b[0m \u001b[1;33m=\u001b[0m \u001b[1;33m[\u001b[0m\u001b[0mx\u001b[0m \u001b[1;32mfor\u001b[0m \u001b[0mx\u001b[0m \u001b[1;32min\u001b[0m \u001b[0mos\u001b[0m\u001b[1;33m.\u001b[0m\u001b[0mlistdir\u001b[0m\u001b[1;33m(\u001b[0m\u001b[0minp_path\u001b[0m\u001b[1;33m)\u001b[0m \u001b[1;32mif\u001b[0m \u001b[0mx\u001b[0m\u001b[1;33m.\u001b[0m\u001b[0mendswith\u001b[0m\u001b[1;33m(\u001b[0m\u001b[1;34m'.pdf'\u001b[0m\u001b[1;33m)\u001b[0m\u001b[1;33m]\u001b[0m\u001b[1;33m\u001b[0m\u001b[1;33m\u001b[0m\u001b[0m\n\u001b[0;32m      7\u001b[0m     \u001b[0mx\u001b[0m \u001b[1;33m=\u001b[0m \u001b[1;33m[\u001b[0m\u001b[0mpdf2jpg\u001b[0m\u001b[1;33m.\u001b[0m\u001b[0mconvert_pdf2jpg\u001b[0m\u001b[1;33m(\u001b[0m\u001b[0mstr\u001b[0m\u001b[1;33m(\u001b[0m\u001b[0minp_path\u001b[0m\u001b[1;33m)\u001b[0m\u001b[1;33m+\u001b[0m\u001b[1;34m'/'\u001b[0m\u001b[1;33m+\u001b[0m\u001b[0mfilename\u001b[0m\u001b[1;33m,\u001b[0m \u001b[0mstr\u001b[0m\u001b[1;33m(\u001b[0m\u001b[0mout_path\u001b[0m\u001b[1;33m)\u001b[0m\u001b[1;33m+\u001b[0m\u001b[1;34m'/'\u001b[0m\u001b[1;33m+\u001b[0m\u001b[0mfilename\u001b[0m\u001b[1;33m,\u001b[0m \u001b[0mpages\u001b[0m\u001b[1;33m=\u001b[0m\u001b[1;34m\"ALL\"\u001b[0m\u001b[1;33m)\u001b[0m \u001b[1;32mfor\u001b[0m \u001b[0mfilename\u001b[0m \u001b[1;32min\u001b[0m \u001b[0mfilenames\u001b[0m\u001b[1;33m]\u001b[0m\u001b[1;33m\u001b[0m\u001b[1;33m\u001b[0m\u001b[0m\n\u001b[1;32m----> 8\u001b[1;33m     \u001b[0my\u001b[0m \u001b[1;33m=\u001b[0m \u001b[1;33m[\u001b[0m\u001b[1;33m[\u001b[0m\u001b[0mshutil\u001b[0m\u001b[1;33m.\u001b[0m\u001b[0mmove\u001b[0m\u001b[1;33m(\u001b[0m\u001b[0mstr\u001b[0m\u001b[1;33m(\u001b[0m\u001b[0mout_path\u001b[0m\u001b[1;33m)\u001b[0m\u001b[1;33m+\u001b[0m\u001b[1;34m'/'\u001b[0m\u001b[1;33m+\u001b[0m\u001b[0mfilename\u001b[0m\u001b[1;33m+\u001b[0m\u001b[1;34m'/'\u001b[0m\u001b[1;33m+\u001b[0m\u001b[0mfilename\u001b[0m\u001b[1;33m+\u001b[0m\u001b[1;34m'_dir'\u001b[0m\u001b[1;33m+\u001b[0m\u001b[1;34m'/'\u001b[0m\u001b[1;33m+\u001b[0m \u001b[0mfile\u001b[0m\u001b[1;33m,\u001b[0m\u001b[0mstr\u001b[0m\u001b[1;33m(\u001b[0m\u001b[0mout_path\u001b[0m\u001b[1;33m)\u001b[0m\u001b[1;33m+\u001b[0m\u001b[1;34m'/'\u001b[0m\u001b[1;33m+\u001b[0m\u001b[0mfilename\u001b[0m\u001b[1;33m+\u001b[0m\u001b[1;34m'/'\u001b[0m\u001b[1;33m+\u001b[0m \u001b[0mfile\u001b[0m\u001b[1;33m)\u001b[0m \u001b[1;32mfor\u001b[0m \u001b[0mfile\u001b[0m \u001b[1;32min\u001b[0m \u001b[0mos\u001b[0m\u001b[1;33m.\u001b[0m\u001b[0mlistdir\u001b[0m\u001b[1;33m(\u001b[0m\u001b[0mstr\u001b[0m\u001b[1;33m(\u001b[0m\u001b[0mout_path\u001b[0m\u001b[1;33m)\u001b[0m\u001b[1;33m+\u001b[0m\u001b[1;34m'/'\u001b[0m\u001b[1;33m+\u001b[0m\u001b[0mfilename\u001b[0m\u001b[1;33m+\u001b[0m\u001b[1;34m'/'\u001b[0m\u001b[1;33m+\u001b[0m\u001b[0mfilename\u001b[0m\u001b[1;33m+\u001b[0m\u001b[1;34m'_dir'\u001b[0m\u001b[1;33m)\u001b[0m\u001b[1;33m]\u001b[0m \u001b[1;32mfor\u001b[0m \u001b[0mfilename\u001b[0m \u001b[1;32min\u001b[0m \u001b[0mfilenames\u001b[0m\u001b[1;33m]\u001b[0m\u001b[1;33m\u001b[0m\u001b[1;33m\u001b[0m\u001b[0m\n\u001b[0m\u001b[0;32m      9\u001b[0m \u001b[1;31m#     inp2 = [str(out_path)+'/'+filename+'/' for filename in filenames]\u001b[0m\u001b[1;33m\u001b[0m\u001b[1;33m\u001b[0m\u001b[1;33m\u001b[0m\u001b[0m\n\u001b[0;32m     10\u001b[0m \u001b[1;31m#     for inp in inp2:\u001b[0m\u001b[1;33m\u001b[0m\u001b[1;33m\u001b[0m\u001b[1;33m\u001b[0m\u001b[0m\n",
      "\u001b[1;31mFileNotFoundError\u001b[0m: [WinError 3] The system cannot find the path specified: 'C:\\\\Users\\\\Sanjeev\\\\Documents\\\\Python Scripts\\\\Image_preprocessing\\\\Client Samples/tmp/Cancel 3.pdf/Cancel 3.pdf_dir'"
     ]
    }
   ],
   "source": [
    "def PdftoJpg(inp_path):\n",
    "    inp_path = Path(inp_path)\n",
    "    out_path = str(inp_path)+'/tmp'\n",
    "    os.makedirs(out_path+'/text', exist_ok=True)\n",
    "    os.makedirs(out_path, exist_ok=True)\n",
    "    filenames = [x for x in os.listdir(inp_path) if x.endswith('.pdf')]\n",
    "    x = [pdf2jpg.convert_pdf2jpg(str(inp_path)+'/'+filename, str(out_path)+'/'+filename, pages=\"ALL\") for filename in filenames]\n",
    "    y = [[shutil.move(str(out_path)+'/'+filename+'/'+filename+'_dir'+'/'+ file,str(out_path)+'/'+filename+'/'+ file) for file in os.listdir(str(out_path)+'/'+filename+'/'+filename+'_dir')] for filename in filenames]\n",
    "#     inp2 = [str(out_path)+'/'+filename+'/' for filename in filenames]\n",
    "#     for inp in inp2:\n",
    "#         imgfile = [str(inp)+'/'+x for x in os.listdir(inp) if x.endswith('.jpg')]\n",
    "#         img = [cv2.imread(x) for x in imgfile]\n",
    "#         gray = [cv2.cvtColor(x, cv2.COLOR_BGR2GRAY) for x in img]\n",
    "#         for i in range(len(gray)):\n",
    "#             text = pytesseract.image_to_string(gray[i], lang=TESSERACT_LANG, config=TESSERACT_PSM_MODE)\n",
    "#             with open(str(imgfile[i])+'.txt', 'w') as f:\n",
    "#                 f.write(text)\n",
    "#             shutil.move(str(imgfile[i])+'.txt', out_path+'/text/')\n",
    "\n",
    "path =r\"C:\\Users\\Sanjeev\\Documents\\Python Scripts\\Image_preprocessing\\Client Samples\"\n",
    "PdftoJpg(path)"
   ]
  },
  {
   "cell_type": "code",
   "execution_count": 16,
   "metadata": {},
   "outputs": [],
   "source": [
    "import cv2\n",
    "import os\n",
    "import sys\n",
    "from pdf2jpg import pdf2jpg\n",
    "import pytesseract\n",
    "import pickle\n",
    "from pathlib import Path\n",
    "import shutil\n",
    "import sys\n",
    "# TESERRACT_PATH = 'C:/Program Files/Tesseract-OCR/tesseract'\n",
    "# TESSERACT_LANG = 'eng'\n",
    "# TESSERACT_PSM_MODE = '--psm 6'\n",
    "# # inp_path = str(sys.argv[1])"
   ]
  },
  {
   "cell_type": "code",
   "execution_count": 70,
   "metadata": {},
   "outputs": [],
   "source": [
    "def PdftoJpg(inp_path):\n",
    "    inp_path = Path(inp_path)\n",
    "    out_path = str(inp_path)+'/tmp'\n",
    "    os.makedirs(out_path+'/text', exist_ok=True)\n",
    "    os.makedirs(out_path, exist_ok=True)\n",
    "    filenames = [x for x in os.listdir(inp_path) if x.endswith('.pdf')]\n",
    "    x = [pdf2jpg.convert_pdf2jpg(str(inp_path)+'/'+filename, str(out_path)+'/'+filename, pages=\"ALL\") for filename in filenames]\n",
    "#     y = [[shutil.move(str(out_path)+'/'+filename+'/'+filename+'_dir'+'/'+ file,str(out_path)+'/'+filename+'/'+ file) for file in os.listdir(str(out_path)+'/'+filename+'/'+filename+'_dir')] for filename in filenames]\n",
    "#     inp2 = [str(out_path)+'/'+filename+'/' for filename in filenames]\n",
    "#     for inp in inp2:\n",
    "#         imgfile = [str(inp)+'/'+x for x in os.listdir(inp) if x.endswith('.jpg')]\n",
    "#         img = [cv2.imread(x) for x in imgfile]\n",
    "#         gray = [cv2.cvtColor(x, cv2.COLOR_BGR2GRAY) for x in img]\n",
    "#         for i in range(len(gray)):\n",
    "#             text = pytesseract.image_to_string(gray[i], lang=TESSERACT_LANG, config=TESSERACT_PSM_MODE)\n",
    "#             with open(str(imgfile[i])+'.txt', 'w') as f:\n",
    "#                 f.write(text)\n",
    "#             shutil.move(str(imgfile[i])+'.txt', out_path+'/text/')"
   ]
  },
  {
   "cell_type": "code",
   "execution_count": 21,
   "metadata": {},
   "outputs": [
    {
     "data": {
      "text/plain": [
       "['Cancel 3.pdf',\n",
       " 'Cancel 4.pdf',\n",
       " 'Cancel1.pdf',\n",
       " 'Cancel2.pdf',\n",
       " 'Declaration 4.pdf',\n",
       " 'Declaration1.pdf',\n",
       " 'Declaration2.pdf',\n",
       " 'Declartion 3.pdf']"
      ]
     },
     "execution_count": 21,
     "metadata": {},
     "output_type": "execute_result"
    }
   ],
   "source": [
    "inp_path =r\"C://Users//Sanjeev//Documents//Python Scripts//Image_preprocessing//Client Samples\"\n",
    "filenames=[x for x in os.listdir(inp_path) if x.endswith('.pdf')]\n",
    "filenames"
   ]
  },
  {
   "cell_type": "code",
   "execution_count": 22,
   "metadata": {},
   "outputs": [],
   "source": [
    "out_path = str(inp_path)+'//tmp'\n",
    "os.makedirs(out_path, exist_ok=True)"
   ]
  },
  {
   "cell_type": "code",
   "execution_count": 23,
   "metadata": {},
   "outputs": [
    {
     "name": "stdout",
     "output_type": "stream",
     "text": [
      "[WinError 2] The system cannot find the file specified\n",
      "[WinError 2] The system cannot find the file specified\n",
      "[WinError 2] The system cannot find the file specified\n",
      "[WinError 2] The system cannot find the file specified\n",
      "[WinError 2] The system cannot find the file specified\n",
      "[WinError 2] The system cannot find the file specified\n",
      "[WinError 2] The system cannot find the file specified\n",
      "[WinError 2] The system cannot find the file specified\n"
     ]
    },
    {
     "data": {
      "text/plain": [
       "[False, False, False, False, False, False, False, False]"
      ]
     },
     "execution_count": 23,
     "metadata": {},
     "output_type": "execute_result"
    }
   ],
   "source": [
    "[pdf2jpg.convert_pdf2jpg(str(inp_path)+'\\\\'+filename, str(out_path)+'//'+filename, pages=\"ALL\") for filename in filenames]"
   ]
  },
  {
   "cell_type": "code",
   "execution_count": null,
   "metadata": {},
   "outputs": [],
   "source": [
    "pdf2jpg.convert_pdf2jpg"
   ]
  },
  {
   "cell_type": "code",
   "execution_count": 25,
   "metadata": {},
   "outputs": [
    {
     "data": {
      "text/plain": [
       "[('C://Users//Sanjeev//Documents//Python Scripts//Image_preprocessing//Client Samples//Cancel 3.pdf',\n",
       "  'C://Users//Sanjeev//Documents//Python Scripts//Image_preprocessing//Client Samples//tmp//Cancel 3.pdf'),\n",
       " ('C://Users//Sanjeev//Documents//Python Scripts//Image_preprocessing//Client Samples//Cancel 4.pdf',\n",
       "  'C://Users//Sanjeev//Documents//Python Scripts//Image_preprocessing//Client Samples//tmp//Cancel 4.pdf'),\n",
       " ('C://Users//Sanjeev//Documents//Python Scripts//Image_preprocessing//Client Samples//Cancel1.pdf',\n",
       "  'C://Users//Sanjeev//Documents//Python Scripts//Image_preprocessing//Client Samples//tmp//Cancel1.pdf'),\n",
       " ('C://Users//Sanjeev//Documents//Python Scripts//Image_preprocessing//Client Samples//Cancel2.pdf',\n",
       "  'C://Users//Sanjeev//Documents//Python Scripts//Image_preprocessing//Client Samples//tmp//Cancel2.pdf'),\n",
       " ('C://Users//Sanjeev//Documents//Python Scripts//Image_preprocessing//Client Samples//Declaration 4.pdf',\n",
       "  'C://Users//Sanjeev//Documents//Python Scripts//Image_preprocessing//Client Samples//tmp//Declaration 4.pdf'),\n",
       " ('C://Users//Sanjeev//Documents//Python Scripts//Image_preprocessing//Client Samples//Declaration1.pdf',\n",
       "  'C://Users//Sanjeev//Documents//Python Scripts//Image_preprocessing//Client Samples//tmp//Declaration1.pdf'),\n",
       " ('C://Users//Sanjeev//Documents//Python Scripts//Image_preprocessing//Client Samples//Declaration2.pdf',\n",
       "  'C://Users//Sanjeev//Documents//Python Scripts//Image_preprocessing//Client Samples//tmp//Declaration2.pdf'),\n",
       " ('C://Users//Sanjeev//Documents//Python Scripts//Image_preprocessing//Client Samples//Declartion 3.pdf',\n",
       "  'C://Users//Sanjeev//Documents//Python Scripts//Image_preprocessing//Client Samples//tmp//Declartion 3.pdf')]"
      ]
     },
     "execution_count": 25,
     "metadata": {},
     "output_type": "execute_result"
    }
   ],
   "source": [
    "[(str(inp_path)+'//'+filename,str('C://Users//Sanjeev//Documents//Python Scripts//Image_preprocessing//Client Samples//') for filename in filenames]"
   ]
  },
  {
   "cell_type": "code",
   "execution_count": 8,
   "metadata": {},
   "outputs": [
    {
     "name": "stderr",
     "output_type": "stream",
     "text": [
      "ERROR:root:No traceback has been produced, nothing to debug.\n"
     ]
    }
   ],
   "source": [
    "%debug"
   ]
  },
  {
   "cell_type": "code",
   "execution_count": null,
   "metadata": {},
   "outputs": [],
   "source": []
  },
  {
   "cell_type": "code",
   "execution_count": 71,
   "metadata": {},
   "outputs": [
    {
     "name": "stdout",
     "output_type": "stream",
     "text": [
      "[WinError 2] The system cannot find the file specified\n",
      "[WinError 2] The system cannot find the file specified\n",
      "[WinError 2] The system cannot find the file specified\n",
      "[WinError 2] The system cannot find the file specified\n",
      "[WinError 2] The system cannot find the file specified\n",
      "[WinError 2] The system cannot find the file specified\n",
      "[WinError 2] The system cannot find the file specified\n",
      "[WinError 2] The system cannot find the file specified\n"
     ]
    }
   ],
   "source": [
    "# inp_path =r\"C:\\Users\\Sanjeev\\Documents\\Python Scripts\\Image_preprocessing\\Client Samples\"\n",
    "PdftoJpg(r\"C:\\Users\\Sanjeev\\Documents\\Python Scripts\\Image_preprocessing\\Client Samples\")"
   ]
  },
  {
   "cell_type": "code",
   "execution_count": 72,
   "metadata": {},
   "outputs": [
    {
     "name": "stdout",
     "output_type": "stream",
     "text": [
      "> \u001b[1;32m<ipython-input-66-d971a90cf49d>\u001b[0m(22)\u001b[0;36m<listcomp>\u001b[1;34m()\u001b[0m\n",
      "\u001b[1;32m     20 \u001b[1;33m    \u001b[0mfilenames\u001b[0m \u001b[1;33m=\u001b[0m \u001b[1;33m[\u001b[0m\u001b[0mx\u001b[0m \u001b[1;32mfor\u001b[0m \u001b[0mx\u001b[0m \u001b[1;32min\u001b[0m \u001b[0mos\u001b[0m\u001b[1;33m.\u001b[0m\u001b[0mlistdir\u001b[0m\u001b[1;33m(\u001b[0m\u001b[0minp_path\u001b[0m\u001b[1;33m)\u001b[0m \u001b[1;32mif\u001b[0m \u001b[0mx\u001b[0m\u001b[1;33m.\u001b[0m\u001b[0mendswith\u001b[0m\u001b[1;33m(\u001b[0m\u001b[1;34m'.pdf'\u001b[0m\u001b[1;33m)\u001b[0m\u001b[1;33m]\u001b[0m\u001b[1;33m\u001b[0m\u001b[1;33m\u001b[0m\u001b[0m\n",
      "\u001b[0m\u001b[1;32m     21 \u001b[1;33m    \u001b[0mx\u001b[0m \u001b[1;33m=\u001b[0m \u001b[1;33m[\u001b[0m\u001b[0mpdf2jpg\u001b[0m\u001b[1;33m.\u001b[0m\u001b[0mconvert_pdf2jpg\u001b[0m\u001b[1;33m(\u001b[0m\u001b[0mstr\u001b[0m\u001b[1;33m(\u001b[0m\u001b[0minp_path\u001b[0m\u001b[1;33m)\u001b[0m\u001b[1;33m+\u001b[0m\u001b[1;34m'/'\u001b[0m\u001b[1;33m+\u001b[0m\u001b[0mfilename\u001b[0m\u001b[1;33m,\u001b[0m \u001b[0mstr\u001b[0m\u001b[1;33m(\u001b[0m\u001b[0mout_path\u001b[0m\u001b[1;33m)\u001b[0m\u001b[1;33m+\u001b[0m\u001b[1;34m'/'\u001b[0m\u001b[1;33m+\u001b[0m\u001b[0mfilename\u001b[0m\u001b[1;33m,\u001b[0m \u001b[0mpages\u001b[0m\u001b[1;33m=\u001b[0m\u001b[1;34m\"ALL\"\u001b[0m\u001b[1;33m)\u001b[0m \u001b[1;32mfor\u001b[0m \u001b[0mfilename\u001b[0m \u001b[1;32min\u001b[0m \u001b[0mfilenames\u001b[0m\u001b[1;33m]\u001b[0m\u001b[1;33m\u001b[0m\u001b[1;33m\u001b[0m\u001b[0m\n",
      "\u001b[0m\u001b[1;32m---> 22 \u001b[1;33m    \u001b[0my\u001b[0m \u001b[1;33m=\u001b[0m \u001b[1;33m[\u001b[0m\u001b[1;33m[\u001b[0m\u001b[0mshutil\u001b[0m\u001b[1;33m.\u001b[0m\u001b[0mmove\u001b[0m\u001b[1;33m(\u001b[0m\u001b[0mstr\u001b[0m\u001b[1;33m(\u001b[0m\u001b[0mout_path\u001b[0m\u001b[1;33m)\u001b[0m\u001b[1;33m+\u001b[0m\u001b[1;34m'/'\u001b[0m\u001b[1;33m+\u001b[0m\u001b[0mfilename\u001b[0m\u001b[1;33m+\u001b[0m\u001b[1;34m'/'\u001b[0m\u001b[1;33m+\u001b[0m\u001b[0mfilename\u001b[0m\u001b[1;33m+\u001b[0m\u001b[1;34m'_dir'\u001b[0m\u001b[1;33m+\u001b[0m\u001b[1;34m'/'\u001b[0m\u001b[1;33m+\u001b[0m \u001b[0mfile\u001b[0m\u001b[1;33m,\u001b[0m\u001b[0mstr\u001b[0m\u001b[1;33m(\u001b[0m\u001b[0mout_path\u001b[0m\u001b[1;33m)\u001b[0m\u001b[1;33m+\u001b[0m\u001b[1;34m'/'\u001b[0m\u001b[1;33m+\u001b[0m\u001b[0mfilename\u001b[0m\u001b[1;33m+\u001b[0m\u001b[1;34m'/'\u001b[0m\u001b[1;33m+\u001b[0m \u001b[0mfile\u001b[0m\u001b[1;33m)\u001b[0m \u001b[1;32mfor\u001b[0m \u001b[0mfile\u001b[0m \u001b[1;32min\u001b[0m \u001b[0mos\u001b[0m\u001b[1;33m.\u001b[0m\u001b[0mlistdir\u001b[0m\u001b[1;33m(\u001b[0m\u001b[0mstr\u001b[0m\u001b[1;33m(\u001b[0m\u001b[0mout_path\u001b[0m\u001b[1;33m)\u001b[0m\u001b[1;33m+\u001b[0m\u001b[1;34m'/'\u001b[0m\u001b[1;33m+\u001b[0m\u001b[0mfilename\u001b[0m\u001b[1;33m+\u001b[0m\u001b[1;34m'/'\u001b[0m\u001b[1;33m+\u001b[0m\u001b[0mfilename\u001b[0m\u001b[1;33m+\u001b[0m\u001b[1;34m'_dir'\u001b[0m\u001b[1;33m)\u001b[0m\u001b[1;33m]\u001b[0m \u001b[1;32mfor\u001b[0m \u001b[0mfilename\u001b[0m \u001b[1;32min\u001b[0m \u001b[0mfilenames\u001b[0m\u001b[1;33m]\u001b[0m\u001b[1;33m\u001b[0m\u001b[1;33m\u001b[0m\u001b[0m\n",
      "\u001b[0m\u001b[1;32m     23 \u001b[1;33m\u001b[1;31m#     inp2 = [str(out_path)+'/'+filename+'/' for filename in filenames]\u001b[0m\u001b[1;33m\u001b[0m\u001b[1;33m\u001b[0m\u001b[1;33m\u001b[0m\u001b[0m\n",
      "\u001b[0m\u001b[1;32m     24 \u001b[1;33m\u001b[1;31m#     for inp in inp2:\u001b[0m\u001b[1;33m\u001b[0m\u001b[1;33m\u001b[0m\u001b[1;33m\u001b[0m\u001b[0m\n",
      "\u001b[0m\n",
      "ipdb> exit\n"
     ]
    }
   ],
   "source": [
    "%debug"
   ]
  }
 ],
 "metadata": {
  "hide_input": false,
  "kernelspec": {
   "display_name": "trevaller_policy",
   "language": "python",
   "name": "trevaller_policy"
  },
  "language_info": {
   "codemirror_mode": {
    "name": "ipython",
    "version": 3
   },
   "file_extension": ".py",
   "mimetype": "text/x-python",
   "name": "python",
   "nbconvert_exporter": "python",
   "pygments_lexer": "ipython3",
   "version": "3.7.7"
  },
  "varInspector": {
   "cols": {
    "lenName": 16,
    "lenType": 16,
    "lenVar": 40
   },
   "kernels_config": {
    "python": {
     "delete_cmd_postfix": "",
     "delete_cmd_prefix": "del ",
     "library": "var_list.py",
     "varRefreshCmd": "print(var_dic_list())"
    },
    "r": {
     "delete_cmd_postfix": ") ",
     "delete_cmd_prefix": "rm(",
     "library": "var_list.r",
     "varRefreshCmd": "cat(var_dic_list()) "
    }
   },
   "types_to_exclude": [
    "module",
    "function",
    "builtin_function_or_method",
    "instance",
    "_Feature"
   ],
   "window_display": false
  }
 },
 "nbformat": 4,
 "nbformat_minor": 2
}
