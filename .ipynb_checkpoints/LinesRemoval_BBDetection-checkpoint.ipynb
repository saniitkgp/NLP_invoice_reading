{
 "cells": [
  {
   "cell_type": "code",
   "execution_count": 2,
   "metadata": {},
   "outputs": [],
   "source": [
    "import os\n",
    "import sys\n",
    "# from pdf2jpg import pdf2jpg\n",
    "import cv2\n",
    "import numpy as np"
   ]
  },
  {
   "cell_type": "code",
   "execution_count": null,
   "metadata": {},
   "outputs": [],
   "source": [
    "# Convert Pdf files to jpg\n",
    "\n",
    "# inputpath = r\"C:\\Users\\sushresulagna.rath\\Desktop\\OneDrive_1_4-27-2020\\\\49_Redacted.pdf\"\n",
    "# outputpath = r\"C:\\Users\\sushresulagna.rath\\Desktop\\OneDrive_1_4-27-2020\\\\\"\n",
    "# print(inputpath)\n",
    "\n",
    "# pdf2jpg.convert_pdf2jpg(inputpath, outputpath, pages=\"ALL\")"
   ]
  },
  {
   "cell_type": "code",
   "execution_count": null,
   "metadata": {},
   "outputs": [],
   "source": [
    "# To eliminate horizontal and vertical lines\n",
    "\n",
    "image = cv2.imread(r'C:\\Users\\sushresulagna.rath\\Desktop\\Policy_data\\Insurance\\Cancel\\ACCC2_C\\135_Cancel2.pdf.jpg')\n",
    "result = image.copy()\n",
    "gray = cv2.cvtColor(image,cv2.COLOR_BGR2GRAY)\n",
    "thresh = cv2.threshold(gray, 0, 255, cv2.THRESH_BINARY_INV + cv2.THRESH_OTSU)[1]\n",
    "\n",
    "# Remove horizontal lines\n",
    "horizontal_kernel = cv2.getStructuringElement(cv2.MORPH_RECT, (40,1))\n",
    "remove_horizontal = cv2.morphologyEx(thresh, cv2.MORPH_OPEN, horizontal_kernel, iterations=2)\n",
    "cnts = cv2.findContours(remove_horizontal, cv2.RETR_EXTERNAL, cv2.CHAIN_APPROX_SIMPLE)\n",
    "cnts = cnts[0] if len(cnts) == 2 else cnts[1]\n",
    "for c in cnts:\n",
    "    cv2.drawContours(result, [c], -5, (255,255,255), 10)\n",
    "\n",
    "# Remove vertical lines\n",
    "vertical_kernel = cv2.getStructuringElement(cv2.MORPH_RECT, (1,40))\n",
    "remove_vertical = cv2.morphologyEx(thresh, cv2.MORPH_OPEN, vertical_kernel, iterations=2)\n",
    "cnts = cv2.findContours(remove_vertical, cv2.RETR_EXTERNAL, cv2.CHAIN_APPROX_SIMPLE)\n",
    "cnts = cnts[0] if len(cnts) == 2 else cnts[1]\n",
    "for c in cnts:\n",
    "    cv2.drawContours(result, [c], -20, (255,255,255), 10)\n",
    "\n",
    "#cv2.imshow('thresh', thresh)\n",
    "#cv2.imshow('result', result)\n",
    "cv2.imwrite('result.png', result)\n",
    "cv2.imwrite('thresh.png', thresh)\n",
    "cv2.waitKey()"
   ]
  },
  {
   "cell_type": "code",
   "execution_count": 3,
   "metadata": {},
   "outputs": [
    {
     "data": {
      "text/plain": [
       "True"
      ]
     },
     "execution_count": 3,
     "metadata": {},
     "output_type": "execute_result"
    }
   ],
   "source": [
    "# To BB around Texts\n",
    "\n",
    "img_path =\"C:/Users/Sanjeev/Downloads/software/0325updated.task2train(626p)-20200414T125907Z-001/0325updated.task2train(626p)/X00016469612.jpg\"\n",
    "image = cv2.imread(img_path)\n",
    "gray = cv2.cvtColor(image,cv2.COLOR_BGR2GRAY) # grayscale\n",
    "_,thresh = cv2.threshold(gray,150,255,cv2.THRESH_BINARY_INV) # threshold\n",
    "kernel = cv2.getStructuringElement(cv2.MORPH_CROSS,(3,3))\n",
    "dilated = cv2.dilate(thresh,kernel,iterations = 13) # dilate\n",
    "contours, hierarchy = cv2.findContours(dilated,cv2.RETR_EXTERNAL,cv2.CHAIN_APPROX_NONE) # get contours\n",
    "\n",
    "# for each contour found, draw a rectangle around it on original image\n",
    "for contour in contours:\n",
    "    # get rectangle bounding contour\n",
    "    [x,y,w,h] = cv2.boundingRect(contour)\n",
    "\n",
    "    # discard areas that are too large\n",
    "    if h>300 and w>300:\n",
    "        continue\n",
    "\n",
    "    # discard areas that are too small\n",
    "    if h<40 or w<40:\n",
    "        continue\n",
    "\n",
    "    # draw rectangle around contour on original image\n",
    "    cv2.rectangle(image,(x,y),(x+w,y+h),(0,0,0),2)\n",
    "\n",
    "# write original image with added contours to disk  \n",
    "# cv2.imwrite(\"contoured.jpg\", image) "
   ]
  }
 ],
 "metadata": {
  "hide_input": false,
  "kernelspec": {
   "display_name": "Python 3",
   "language": "python",
   "name": "python3"
  },
  "language_info": {
   "codemirror_mode": {
    "name": "ipython",
    "version": 3
   },
   "file_extension": ".py",
   "mimetype": "text/x-python",
   "name": "python",
   "nbconvert_exporter": "python",
   "pygments_lexer": "ipython3",
   "version": "3.7.4"
  },
  "varInspector": {
   "cols": {
    "lenName": 16,
    "lenType": 16,
    "lenVar": 40
   },
   "kernels_config": {
    "python": {
     "delete_cmd_postfix": "",
     "delete_cmd_prefix": "del ",
     "library": "var_list.py",
     "varRefreshCmd": "print(var_dic_list())"
    },
    "r": {
     "delete_cmd_postfix": ") ",
     "delete_cmd_prefix": "rm(",
     "library": "var_list.r",
     "varRefreshCmd": "cat(var_dic_list()) "
    }
   },
   "types_to_exclude": [
    "module",
    "function",
    "builtin_function_or_method",
    "instance",
    "_Feature"
   ],
   "window_display": false
  }
 },
 "nbformat": 4,
 "nbformat_minor": 2
}
