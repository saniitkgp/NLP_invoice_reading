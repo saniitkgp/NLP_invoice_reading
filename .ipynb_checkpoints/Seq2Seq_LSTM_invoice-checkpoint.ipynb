{
 "cells": [
  {
   "cell_type": "code",
   "execution_count": 17,
   "metadata": {},
   "outputs": [],
   "source": [
    "#------------------------------importing library-----------------------------------------\n",
    "from dateutil.parser import parse\n",
    "import numpy as np\n",
    "import pandas as pd\n",
    "from dateutil.parser import parse\n",
    "import pickle\n",
    "from bpemb import BPEmb\n",
    "import pytesseract\n",
    "import cv2\n",
    "import glob\n",
    "import matplotlib.pyplot as plt\n",
    "from PIL import Image\n",
    "from bs4 import BeautifulSoup\n",
    "import re\n",
    "import networkx as nx\n",
    "\n",
    "import torch\n",
    "import torch.nn.functional as F\n",
    "from torch_geometric.nn import ChebConv\n",
    "from torch.utils.data import Dataset \n",
    "from torch_geometric.data import Data\n",
    "from torch_geometric.data import DataLoader\n",
    "from scipy.sparse import csr_matrix\n",
    "from torch_geometric.utils import convert\n",
    "\n",
    "import torch.nn as nn\n",
    "from timeit import default_timer as timer\n",
    "\n",
    "import re"
   ]
  },
  {
   "cell_type": "code",
   "execution_count": 3,
   "metadata": {},
   "outputs": [],
   "source": [
    "#-----------path to lapto -----------\n",
    "# text_path= \"C:/Users/Sanjeev/Downloads/software/0325updated.task2train(626p)-20200414T125907Z-001/0325updated.task2train(626p)/*.txt\"\n",
    "# img_path= \"C:/Users/Sanjeev/Downloads/software/0325updated.task2train(626p)-20200414T125907Z-001/0325updated.task2train(626p)/*.jpg\"\n",
    "# tesseract_path ='C:/python_lib/ocr/tesseract.exe'\n",
    "# pytesseract.pytesseract.tesseract_cmd = 'C:/python_lib/ocr/tesseract.exe'\n",
    "\n",
    "\n",
    "\n",
    "# ----------------------------path to desktop ----------------------\n",
    "\n",
    "\n",
    "text_path= \"C:/Users/sanjeev.br.kumar/Documents/Accenture_project/data/invoice_challenga_data/0325updated.task2train(626p)/*.txt\"\n",
    "img_path= \"C:/Users/sanjeev.br.kumar/Documents/Accenture_project/data/invoice_challenga_data/0325updated.task2train(626p)/*.jpg\"\n",
    "tesseract_path =\"C:/my_installation/treserect/tesseract.exe\"\n",
    "pytesseract.pytesseract.tesseract_cmd =\"C:/my_installation/treserect/tesseract.exe\"\n",
    "data_path = \"C:/Users/sanjeev.br.kumar/Documents/Accenture_project/save_data_code\""
   ]
  },
  {
   "cell_type": "code",
   "execution_count": 4,
   "metadata": {},
   "outputs": [],
   "source": [
    "text_file = glob.glob(text_path)\n",
    "img_file = glob.glob(img_path)"
   ]
  },
  {
   "cell_type": "code",
   "execution_count": 5,
   "metadata": {},
   "outputs": [],
   "source": [
    "def SaveData(data,path):\n",
    "    with open(path,'wb') as file:\n",
    "        pickle.dump(data,file)\n",
    "\n",
    "def LoadData(path):\n",
    "    with open(path, 'rb') as file:\n",
    "        return pickle.load(file)\n"
   ]
  },
  {
   "cell_type": "code",
   "execution_count": 6,
   "metadata": {},
   "outputs": [],
   "source": [
    "def get_ocr_text(img):  \n",
    "    res = isinstance(img, str)\n",
    "    if res:\n",
    "        print('reading image ../n' )\n",
    "        img = cv2.imread(img)  \n",
    "    text = pytesseract.image_to_string(img)\n",
    "#     print(text)\n",
    "    return text"
   ]
  },
  {
   "cell_type": "code",
   "execution_count": 11,
   "metadata": {},
   "outputs": [],
   "source": [
    "def read_data(img_path_list, text_path_list, data_no=150):\n",
    "    data_list=[]\n",
    "    j=0\n",
    "    for i in range(data_no):\n",
    "        img_path= img_path_list[i]\n",
    "        img_name = img_path.split(\"\\\\\")[-1]\n",
    "        img_name = img_name.split(\".jpg\")[0]\n",
    "        img_data = cv2.imread(img_path_list[i])\n",
    "#         img_list.append(img_data)\n",
    "        ocr_text = get_ocr_text(img_path)\n",
    "        \n",
    "        text_path = text_path_list[j]\n",
    "        text_name=text_path.split(\"\\\\\")[-1]\n",
    "        text_name = text_name.split('.txt')[0]\n",
    "        while img_name != text_name:\n",
    "            j +=1\n",
    "            print('fileName is not same: ',img_name, text_name)\n",
    "            text_path = text_path_list[j]\n",
    "            text_name=text_path.split(\"\\\\\")[-1]\n",
    "            text_name = text_name.split('.txt')[0]\n",
    "        with open(text_path, 'r') as file:\n",
    "            text_data =file.read()\n",
    "        data_list.append([img_data,ocr_text,eval(text_data)])    \n",
    "    return data_list"
   ]
  },
  {
   "cell_type": "code",
   "execution_count": 13,
   "metadata": {},
   "outputs": [
    {
     "name": "stdout",
     "output_type": "stream",
     "text": [
      "reading image ../n\n",
      "reading image ../n\n",
      "fileName is not same:  X00016469619 X00016469612\n",
      "reading image ../n\n",
      "fileName is not same:  X00016469620 X00016469619\n",
      "reading image ../n\n",
      "fileName is not same:  X00016469622 X00016469620\n",
      "reading image ../n\n",
      "fileName is not same:  X00016469623 X00016469622\n"
     ]
    }
   ],
   "source": [
    "d = read_data(img_file,text_file,5)"
   ]
  },
  {
   "cell_type": "code",
   "execution_count": 18,
   "metadata": {},
   "outputs": [],
   "source": [
    "t=d[0][1]"
   ]
  },
  {
   "cell_type": "code",
   "execution_count": 19,
   "metadata": {},
   "outputs": [
    {
     "data": {
      "text/plain": [
       "'tan woon yann\\n\\nBOOK TAK (TAMAN DAYA) SDN BHD\\nB97\\nNO.5? 55,57 & 59, JALAN SAGU 18,\\nTAMAN DAYA\\n81100 JOHOR BAHRU,\\nJOHOR.\\n\\nWAM MICA A\\n\\nDocument Ho : TDO1167104\\n\\n \\n\\nDate 25/12/2018 8:13:39 PM\\nCashier MANIS\\nMember\\nCASH BILL\\nCODE/DESC PRICE Disc AMOUITT\\nQuy RM RM\\n9556939040118 KF MODELLING CLAY KIDDY FISH\\n1PC * 9.00) 6,00 9.00\\nTotal : 9,00\\nRour ding Adjustment 0.00\\n\\nRound::d Total (RM):\\n\\n9.60\\n\\nCash\\nCHANGE\\n\\n  \\n\\nGOODS SOLD ARE NOT RETURNAR\\nEXCHANGEABLE\\n\\n \\n\\nTHANK YOU.\\nPLEASE COME AGA t'"
      ]
     },
     "execution_count": 19,
     "metadata": {},
     "output_type": "execute_result"
    }
   ],
   "source": [
    "t"
   ]
  },
  {
   "cell_type": "code",
   "execution_count": null,
   "metadata": {},
   "outputs": [],
   "source": []
  },
  {
   "cell_type": "code",
   "execution_count": null,
   "metadata": {},
   "outputs": [],
   "source": []
  },
  {
   "cell_type": "code",
   "execution_count": null,
   "metadata": {},
   "outputs": [],
   "source": []
  },
  {
   "cell_type": "code",
   "execution_count": null,
   "metadata": {},
   "outputs": [],
   "source": []
  },
  {
   "cell_type": "code",
   "execution_count": 9,
   "metadata": {},
   "outputs": [
    {
     "data": {
      "text/plain": [
       "'{\\n    \"company\": \"BOOK TA .K (TAMAN DAYA) SDN BHD\",\\n    \"date\": \"25/12/2018\",\\n    \"address\": \"NO.53 55,57 & 59, JALAN SAGU 18, TAMAN DAYA, 81100 JOHOR BAHRU, JOHOR.\",\\n    \"total\": \"9.00\"\\n}'"
      ]
     },
     "execution_count": 9,
     "metadata": {},
     "output_type": "execute_result"
    }
   ],
   "source": [
    "text= open(text_file[0], 'r').read()\n",
    "text"
   ]
  },
  {
   "cell_type": "code",
   "execution_count": 12,
   "metadata": {},
   "outputs": [
    {
     "data": {
      "text/plain": [
       "{'company': 'BOOK TA .K (TAMAN DAYA) SDN BHD',\n",
       " 'date': '25/12/2018',\n",
       " 'address': 'NO.53 55,57 & 59, JALAN SAGU 18, TAMAN DAYA, 81100 JOHOR BAHRU, JOHOR.',\n",
       " 'total': '9.00'}"
      ]
     },
     "execution_count": 12,
     "metadata": {},
     "output_type": "execute_result"
    }
   ],
   "source": [
    "a=eval(text)\n",
    "a"
   ]
  },
  {
   "cell_type": "code",
   "execution_count": null,
   "metadata": {},
   "outputs": [],
   "source": [
    "for i in range of (140):\n",
    "    text= open(text_file[i], 'r').read()"
   ]
  },
  {
   "cell_type": "code",
   "execution_count": 7,
   "metadata": {},
   "outputs": [],
   "source": [
    "import ast\n",
    "\n",
    "def reading(self):\n",
    "    s = open('deed.txt', 'r').read()\n",
    "    self.whip = ast.literal_eval(s)"
   ]
  }
 ],
 "metadata": {
  "kernelspec": {
   "display_name": "Python 3",
   "language": "python",
   "name": "python3"
  },
  "language_info": {
   "codemirror_mode": {
    "name": "ipython",
    "version": 3
   },
   "file_extension": ".py",
   "mimetype": "text/x-python",
   "name": "python",
   "nbconvert_exporter": "python",
   "pygments_lexer": "ipython3",
   "version": "3.7.4"
  }
 },
 "nbformat": 4,
 "nbformat_minor": 2
}
