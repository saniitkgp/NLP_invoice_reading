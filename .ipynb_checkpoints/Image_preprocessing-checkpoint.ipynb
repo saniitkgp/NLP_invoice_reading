{
 "cells": [
  {
   "cell_type": "code",
   "execution_count": 1,
   "metadata": {},
   "outputs": [],
   "source": [
    "import glob\n",
    "from pdf2image import convert_from_path\n",
    "import pandas as pd\n",
    "import pytesseract\n",
    "from bs4 import BeautifulSoup\n",
    "import pickle\n",
    "import cv2\n",
    "import matplotlib.pyplot as plt"
   ]
  },
  {
   "cell_type": "code",
   "execution_count": 2,
   "metadata": {},
   "outputs": [],
   "source": [
    "pdf_path = \"C:/Users/Sanjeev/Documents/Python Scripts/NLP/Image_preprocessing/OneDrive_1_4-27-2020/*.pdf\"\n",
    "poppler_path = 'C:/python_lib/poppler-0.68.0/bin'\n",
    "outfolder = \"C:/Users/Sanjeev/Documents/Python Scripts/NLP/Image_preprocessing/output_image\"\n",
    "img_path = \"C:/Users/Sanjeev/Documents/Python Scripts/NLP/Image_preprocessing/output_image/*.png\"\n",
    "tesseract_path ='C:/python_lib/ocr/tesseract.exe'\n",
    "# data_path = \"C:/Users/Sanjeev/Documents/Python Scripts/Dataset/df_word_list\"\n",
    "pytesseract.pytesseract.tesseract_cmd = 'C:/python_lib/ocr/tesseract.exe'"
   ]
  },
  {
   "cell_type": "code",
   "execution_count": 3,
   "metadata": {
    "code_folding": [
     0
    ]
   },
   "outputs": [],
   "source": [
    "def convert_pdf2image(pdf_path, output_path, poppler_path):\n",
    "    file_path = glob.glob(pdf_path)\n",
    "    img_list=[]\n",
    "    for file in file_path:\n",
    "        print(file)\n",
    "        img_name= file.split(\"\\\\\")[1]\n",
    "        img_name = output_path+img_name.split(\".\")[0]+'.png'\n",
    "        images = convert_from_path(file, 300, poppler_path=poppler_path)\n",
    "        for image in images:\n",
    "            image.save(img_name, 'PNG')\n",
    "            img_list.append(images)\n",
    "    \n",
    "    return  img_list\n",
    "    "
   ]
  },
  {
   "cell_type": "code",
   "execution_count": 4,
   "metadata": {
    "code_folding": [
     0,
     11,
     26
    ]
   },
   "outputs": [],
   "source": [
    "def displayColorImage(img):\n",
    "    img=cv2.cvtColor(img,cv2.COLOR_BGR2RGB)\n",
    "    plt.imshow(img)\n",
    "    plt.title(\"RGB Image\")\n",
    "    plt.axis('off')\n",
    "\n",
    "def displayGrayImage(img):\n",
    "    plt.imshow(img, cmap='gray')\n",
    "    plt.title(\"Gray Image\")\n",
    "    plt.axis('off')\n",
    "    \n",
    "def display_image(img,img_title='Image'):\n",
    "    res = isinstance(img, str)\n",
    "    if res:\n",
    "        print('reading image ../n' )\n",
    "        img = cv2.imread(img)  \n",
    "    if len(img.shape) > 2:\n",
    "        plt.imshow(img, cmap='gray')\n",
    "        plt.title(img_title+str('Gray'))\n",
    "        plt.axis('off')\n",
    "    else:\n",
    "        img=cv2.cvtColor(img,cv2.COLOR_BGR2RGB)\n",
    "        plt.imshow(img)\n",
    "        plt.title(img_title+str('Color'))\n",
    "        plt.axis('off')\n",
    "\n",
    "def display_image_cv(img,window_name='Image'):\n",
    "    res = isinstance(img, str)\n",
    "    if res:\n",
    "        img = cv2.imread(img)\n",
    "        \n",
    "    cv2.namedWindow(window_name, cv2.WINDOW_NORMAL)\n",
    "    cv2.imshow(window_name, img)\n",
    "    "
   ]
  },
  {
   "cell_type": "code",
   "execution_count": 5,
   "metadata": {},
   "outputs": [
    {
     "ename": "NameError",
     "evalue": "name 'img_list' is not defined",
     "output_type": "error",
     "traceback": [
      "\u001b[1;31m---------------------------------------------------------------------------\u001b[0m",
      "\u001b[1;31mNameError\u001b[0m                                 Traceback (most recent call last)",
      "\u001b[1;32m<ipython-input-5-0b9a179ab93d>\u001b[0m in \u001b[0;36m<module>\u001b[1;34m\u001b[0m\n\u001b[1;32m----> 1\u001b[1;33m \u001b[0mimg_path\u001b[0m\u001b[1;33m=\u001b[0m\u001b[0mimg_list\u001b[0m\u001b[1;33m[\u001b[0m\u001b[1;36m0\u001b[0m\u001b[1;33m]\u001b[0m\u001b[1;33m\u001b[0m\u001b[1;33m\u001b[0m\u001b[0m\n\u001b[0m\u001b[0;32m      2\u001b[0m \u001b[1;31m# img_path = \"C:/Users/Sanjeev/Documents/Python Scripts/images/soduku.jpg\"\u001b[0m\u001b[1;33m\u001b[0m\u001b[1;33m\u001b[0m\u001b[1;33m\u001b[0m\u001b[0m\n\u001b[0;32m      3\u001b[0m \u001b[0mimg\u001b[0m\u001b[1;33m=\u001b[0m\u001b[0mcv2\u001b[0m\u001b[1;33m.\u001b[0m\u001b[0mimread\u001b[0m\u001b[1;33m(\u001b[0m\u001b[0mimg_path\u001b[0m\u001b[1;33m)\u001b[0m\u001b[1;33m\u001b[0m\u001b[1;33m\u001b[0m\u001b[0m\n\u001b[0;32m      4\u001b[0m \u001b[1;31m# display_image_cv(img,'original Image')\u001b[0m\u001b[1;33m\u001b[0m\u001b[1;33m\u001b[0m\u001b[1;33m\u001b[0m\u001b[0m\n\u001b[0;32m      5\u001b[0m \u001b[0mgray\u001b[0m \u001b[1;33m=\u001b[0m \u001b[0mcv2\u001b[0m\u001b[1;33m.\u001b[0m\u001b[0mcvtColor\u001b[0m\u001b[1;33m(\u001b[0m\u001b[0mimg\u001b[0m\u001b[1;33m,\u001b[0m\u001b[0mcv2\u001b[0m\u001b[1;33m.\u001b[0m\u001b[0mCOLOR_BGR2GRAY\u001b[0m\u001b[1;33m)\u001b[0m\u001b[1;33m\u001b[0m\u001b[1;33m\u001b[0m\u001b[0m\n",
      "\u001b[1;31mNameError\u001b[0m: name 'img_list' is not defined"
     ]
    }
   ],
   "source": [
    "img_path=img_list[0]\n",
    "# img_path = \"C:/Users/Sanjeev/Documents/Python Scripts/images/soduku.jpg\"\n",
    "img=cv2.imread(img_path)\n",
    "# display_image_cv(img,'original Image')\n",
    "gray = cv2.cvtColor(img,cv2.COLOR_BGR2GRAY)\n",
    "\n",
    "# display_image_cv(gray,'Gray Image')\n",
    "# edges = cv2.Canny(gray,50,150,apertureSize = 3)\n",
    "\n",
    "# edges = cv2.Canny(gray, 100, 170, apertureSize = 3)\n",
    "# lines = cv2.HoughLines(edges, 1, np.pi/180, 200)\n",
    "\n",
    "# edges= cv2.threshold(gray, 0, 255, cv2.THRESH_BINARY_INV + cv2.THRESH_OTSU)[1]\n",
    "# display_image_cv(edges,'edges Image')\n",
    "# img = np.ones(img.shape)\n",
    "# lines = cv2.HoughLines(edges,1,np.pi/180,200)\n",
    "\n",
    "# Apply gaussian blur\n",
    "blur_img = cv2.GaussianBlur(gray, (3, 3), 0)\n",
    "\n",
    "# Positive Laplacian Operator\n",
    "laplacian = cv2.Laplacian(blur_img, cv2.CV_64F)\n",
    "\n",
    "\n",
    "lines = cv2.HoughLines(laplacian,1,np.pi/180,200)\n",
    "for rho,theta in lines[0]:\n",
    "    a = np.cos(theta)\n",
    "    b = np.sin(theta)\n",
    "    x0 = a*rho\n",
    "    y0 = b*rho\n",
    "    x1 = int(x0 + 1000*(-b))\n",
    "    y1 = int(y0 + 1000*(a))\n",
    "    x2 = int(x0 - 1000*(-b))\n",
    "    y2 = int(y0 - 1000*(a))\n",
    "\n",
    "    cv2.line(img,(x1,y1),(x2,y2),(0,255,0),3)\n",
    "\n",
    "display_image_cv(img,'detected Lines')\n",
    "cv2.waitKey(0)"
   ]
  },
  {
   "cell_type": "code",
   "execution_count": 6,
   "metadata": {},
   "outputs": [],
   "source": [
    "img_path= 'C:/Users/Sanjeev/Downloads/software/0325updated.task2train(626p)-20200414T125907Z-001/data/imges/*.jpg'"
   ]
  },
  {
   "cell_type": "code",
   "execution_count": 7,
   "metadata": {},
   "outputs": [
    {
     "name": "stdout",
     "output_type": "stream",
     "text": [
      "53\n"
     ]
    }
   ],
   "source": [
    "img_path_list =glob.glob(img_path)\n",
    "print(len(img_path_list))"
   ]
  },
  {
   "cell_type": "code",
   "execution_count": 8,
   "metadata": {},
   "outputs": [],
   "source": [
    "# function to display detected image \n",
    "def imShow(path):\n",
    "    import cv2\n",
    "    import matplotlib.pyplot as plt\n",
    "    %matplotlib inline\n",
    "    res = isinstance(path, str)\n",
    "    if res:\n",
    "        image = cv2.imread(path)\n",
    "    else:\n",
    "        image=path \n",
    "\n",
    "    height, width = image.shape[:2]\n",
    "    resized_image = cv2.resize(image,(3*width, 3*height), interpolation = cv2.INTER_CUBIC)\n",
    "\n",
    "    fig = plt.gcf()\n",
    "    fig.set_size_inches(18, 10)\n",
    "    plt.axis(\"off\")\n",
    "    #plt.rcParams['figure.figsize'] = [10, 5]\n",
    "    plt.imshow(cv2.cvtColor(resized_image, cv2.COLOR_BGR2RGB))\n",
    "    plt.show()"
   ]
  },
  {
   "cell_type": "code",
   "execution_count": 9,
   "metadata": {},
   "outputs": [
    {
     "name": "stdout",
     "output_type": "stream",
     "text": [
      "path : C:/Users/Sanjeev/Downloads/software/0325updated.task2train(626p)-20200414T125907Z-001/data/imges\\X00016469619.jpg\n"
     ]
    },
    {
     "data": {
      "image/png": "[encoded data removed]",
      "text/plain": [
       "<Figure size 1296x720 with 1 Axes>"
      ]
     },
     "metadata": {
      "needs_background": "light"
     },
     "output_type": "display_data"
    }
   ],
   "source": [
    "idx =1\n",
    "print('path :',img_path_list[idx])\n",
    "image = cv2.imread(img_path_list[idx])\n",
    "# display_image_cv(image)\n",
    "# cv2.waitKey(0)\n",
    "imShow(image)"
   ]
  },
  {
   "cell_type": "code",
   "execution_count": 14,
   "metadata": {},
   "outputs": [
    {
     "data": {
      "text/plain": [
       "-1"
      ]
     },
     "execution_count": 14,
     "metadata": {},
     "output_type": "execute_result"
    }
   ],
   "source": [
    "gray = cv2.cvtColor(image,cv2.COLOR_BGR2GRAY) # grayscale\n",
    "\n",
    "# kernel = np.ones((5,5),np.float32)/25\n",
    "kernel = np.array([[-1,-1,-1], [-1,9,-1], [-1,-1,-1]])\n",
    "dst = cv2.filter2D(gray,-1,kernel)\n",
    "display_image_cv(dst,'Filter image')\n",
    "\n",
    "kernel_g = cv2.getStructuringElement(cv2.MORPH_CROSS,(1,2))\n",
    "dilated_g = cv2.erode(dst,kernel,iterations = 1) # dilate\n",
    "\n",
    "display_image_cv(dilated_g,'gray image')\n",
    "_,thresh = cv2.threshold(dilated_g,150,255,cv2.THRESH_BINARY_INV) # threshold\n",
    "\n",
    "display_image_cv(thresh,'treshold image')\n",
    "# _,thresh=cv2.threshold(img,150,255,cv2.THRESH_BINARY_INV+cv2.THRESH_OTSU)\n",
    "kernel = cv2.getStructuringElement(cv2.MORPH_CROSS,(3,3))\n",
    "# kernel =np.ones((5),np.uint8)\n",
    "# print(kernel)\n",
    "dilated = cv2.dilate(thresh,kernel,iterations = 5) # dilate\n",
    "# dilated = cv2.morphologyEx(dilated, cv2.MORPH_CLOSE, kernel)\n",
    "# display_image_cv(dilated,'dilated image')\n",
    "cv2.waitKey(0)"
   ]
  },
  {
   "cell_type": "code",
   "execution_count": 68,
   "metadata": {},
   "outputs": [],
   "source": [
    "def remove_horizontal_line(img):\n",
    "    cnts = cv2.findContours(img, cv2.RETR_EXTERNAL, cv2.CHAIN_APPROX_SIMPLE)\n",
    "    cnts = cnts[0] if len(cnts) == 2 else cnts[1]\n",
    "#     print(cnts)\n",
    "    for c in cnts:\n",
    "        cv2.drawContours(img, [c], -5, (255,255,255), 10)\n",
    "        \n",
    "    return img"
   ]
  },
  {
   "cell_type": "code",
   "execution_count": 64,
   "metadata": {},
   "outputs": [
    {
     "data": {
      "text/plain": [
       "-1"
      ]
     },
     "execution_count": 64,
     "metadata": {},
     "output_type": "execute_result"
    }
   ],
   "source": [
    "line_remove=remove_horizontal_line(thresh)\n",
    "display_image_cv(line_remove,'sharp_img')\n",
    "cv2.waitKey(0)"
   ]
  },
  {
   "cell_type": "code",
   "execution_count": 73,
   "metadata": {},
   "outputs": [
    {
     "name": "stdout",
     "output_type": "stream",
     "text": [
      "[[1]]\n",
      "[[1 1 1 1 1]\n",
      " [1 1 1 1 1]\n",
      " [1 1 1 1 1]\n",
      " [1 1 1 1 1]\n",
      " [1 1 1 1 1]]\n"
     ]
    },
    {
     "data": {
      "text/plain": [
       "-1"
      ]
     },
     "execution_count": 73,
     "metadata": {},
     "output_type": "execute_result"
    }
   ],
   "source": [
    "p=\"C:/Users/Sanjeev/Documents/Python Scripts/Dataset/output/553155 10-14-19.png\"\n",
    "idx =1\n",
    "# print('path :',img_path_list[idx])\n",
    "image = cv2.imread(img_path_list[idx])\n",
    "# image = cv2.imread(p)\n",
    "# display_image_cv(image)\n",
    "# cv2.waitKey(0)\n",
    "# imShow(image)\n",
    "\n",
    "gray = cv2.cvtColor(image,cv2.COLOR_BGR2GRAY) # grayscale\n",
    "# display_image_cv(gray,'gray')\n",
    "\n",
    "# kernel = np.ones((5,5),np.float32)/25\n",
    "# mean_img = cv2.filter2D(gray,-1,kernel)\n",
    "# display_image_cv(mean_img,'mean_img')\n",
    "\n",
    "\n",
    "\n",
    "kernel = np.array([[-1,-1,-1], [-1,9,-1], [-1,-1,-1]])  # sharping the image\n",
    "# sharp_img = cv2.filter2D(mean_img,-1,kernel)\n",
    "sharp_img = cv2.filter2D(gray,-1,kernel)\n",
    "# sharp_img=cv2.GaussianBlur(gray,(3,3),0)\n",
    "# display_image_cv(sharp_img,'sharp_img')\n",
    "\n",
    "\n",
    "\n",
    "\n",
    "# kernel_g = cv2.getStructuringElement(cv2.MORPH_CROSS,(1,2))\n",
    "# erode_img = cv2.erode(sharp_img,kernel,iterations = 2) # dilate\n",
    "# display_image_cv(erode_img,'erode_img')\n",
    "\n",
    "\n",
    "# _,thresh = cv2.threshold(sharp_img,150,255,cv2.THRESH_BINARY_INV) # threshold\n",
    "thresh = cv2.threshold(gray, 0, 255, cv2.THRESH_BINARY_INV + cv2.THRESH_OTSU)[1]\n",
    "# _,thresh = cv2.threshold(sharp_img,150,255,cv2.THRESH_BINARY_INV) # threshold\n",
    "display_image_cv(thresh,'treshold image')\n",
    "\n",
    "\n",
    "line_remove=remove_horizontal_line(thresh)\n",
    "display_image_cv(line_remove,'line_remove')\n",
    "\n",
    "kernel = cv2.getStructuringElement(cv2.MORPH_RECT,(1,1))\n",
    "print(kernel)\n",
    "dilated = cv2.dilate(thresh,kernel,iterations = 1) # dilate\n",
    "# # # dilated = cv2.morphologyEx(dilated, cv2.MORPH_CLOSE, kernel)\n",
    "display_image_cv(dilated,'dilated image')\n",
    "\n",
    "\n",
    "# kernel = np.ones((3,3),np.uint8)\n",
    "kernel = cv2.getStructuringElement(cv2.MORPH_RECT,(5,5))\n",
    "print(kernel)\n",
    "opening = cv2.morphologyEx(dilated, cv2.MORPH_CLOSE, kernel)\n",
    "display_image_cv(opening,'opening')\n",
    "\n",
    "# dilate_img = cv2.dilate(sharp_img,kernel,iterations = 2) # dilate\n",
    "# # display_image_cv(erode_img,'dilate_img')\n",
    "\n",
    "# _,thresh = cv2.threshold(opening,150,255,cv2.THRESH_BINARY_INV) # threshold\n",
    "# # _,thresh = cv2.threshold(sharp_img,150,255,cv2.THRESH_BINARY_INV) # threshold\n",
    "# display_image_cv(thresh,'treshold image')\n",
    "\n",
    "# # # _,thresh=cv2.threshold(img,150,255,cv2.THRESH_BINARY_INV+cv2.THRESH_OTSU)\n",
    "# kernel = cv2.getStructuringElement(cv2.MORPH_DILATE,(1,3))\n",
    "# dilated = cv2.dilate(thresh,kernel,iterations = 1) # dilate\n",
    "# # # dilated = cv2.morphologyEx(dilated, cv2.MORPH_CLOSE, kernel)\n",
    "# display_image_cv(dilated,'dilated image')\n",
    "\n",
    "# label,lab_img,stats,centroids = cv2.connectedComponentsWithStats(thresh) # finding connected Component in the image\n",
    "\n",
    "# # label,lab_img,stats,centroids = cv2.connectedComponentsWithStats(dilated) # finding connected Component in the image\n",
    "# for i in range(1,label,1):\n",
    "# # calculation of the bounding box point \n",
    "#     x= stats[i, cv2.CC_STAT_LEFT]  # x point of the bounding box\n",
    "#     y= stats[i, cv2.CC_STAT_TOP]   # y point of the bounding box\n",
    "#     w= stats[i, cv2.CC_STAT_WIDTH] # w (width) point of the bounding box\n",
    "#     h= stats[i, cv2.CC_STAT_HEIGHT] # h (hight) point of the bounding box\n",
    "# #     rect.append([x,y,x+w,y+h,w])\n",
    "# #     box_width.append(w)\n",
    "#     cv2.rectangle(image, (x, y), (x + w, y + h), (0, 0, 255), 1) # drowing rectangular box on connected component \n",
    "\n",
    "\n",
    "# display_image_cv(image,'bounding image')\n",
    "cv2.waitKey(0)"
   ]
  },
  {
   "cell_type": "code",
   "execution_count": 275,
   "metadata": {},
   "outputs": [
    {
     "name": "stdout",
     "output_type": "stream",
     "text": [
      "2\n",
      "1 756 5 523\n",
      "2 567 8 393\n"
     ]
    },
    {
     "data": {
      "text/plain": [
       "-1"
      ]
     },
     "execution_count": 275,
     "metadata": {},
     "output_type": "execute_result"
    }
   ],
   "source": [
    "#7, 8 \n",
    "idx=9\n",
    "image = cv2.imread(img_path_list[idx])\n",
    "# display_image_cv(image,'image')\n",
    "\n",
    "gray = cv2.cvtColor(image,cv2.COLOR_BGR2GRAY)\n",
    "# display_image_cv(gray,'gray')\n",
    "\n",
    "# kernel = np.array([[-1,-1,-1], [-1,9,-1], [-1,-1,-1]])  # sharping the image\n",
    "# sharp_img = cv2.filter2D(gray,-1,kernel)\n",
    "\n",
    "\n",
    "thresh = cv2.threshold(gray, 0, 255, cv2.THRESH_BINARY_INV + cv2.THRESH_OTSU)[1]\n",
    "# display_image_cv(thresh,'thresh')\n",
    "\n",
    "line_remove = remove_horizontal_line(thresh)\n",
    "# display_image_cv(line_remove,'line_remove')\n",
    "\n",
    "# line_remove = remove_vertical_line(thresh)\n",
    "# display_image_cv(line_remove,'line_remove_v')\n",
    "\n",
    "kernel= cv2.getStructuringElement(cv2.MORPH_RECT, (1,1))\n",
    "opening = cv2.morphologyEx(line_remove, cv2.MORPH_CLOSE, kernel)\n",
    "# display_image_cv(opening,'opening')\n",
    "\n",
    "kernel = cv2.getStructuringElement(cv2.MORPH_RECT,(10,2))\n",
    "dilated = cv2.dilate(opening,kernel,iterations = 1) # dilate\n",
    "# # # dilated = cv2.morphologyEx(dilated, cv2.MORPH_CLOSE, kernel)\n",
    "display_image_cv(dilated,'dilated image')\n",
    "\n",
    "# kernel = cv2.getStructuringElement(cv2.MORPH_RECT,(2,2))\n",
    "# erode = cv2.erode(opening,kernel,iterations = 4) # dilate\n",
    "# # # # dilated = cv2.morphologyEx(dilated, cv2.MORPH_CLOSE, kernel)\n",
    "# display_image_cv(erode,'erode image')\n",
    "\n",
    "# line_remove = remove_horizontal_line(dilated,70)\n",
    "# display_image_cv(line_remove,'2line_remove')\n",
    "# plot_bbox(line_remove,image)\n",
    "\n",
    "plot_bbox(dilated,image)\n",
    "\n",
    "# # Remove horizontal\n",
    "# horizontal_kernel = cv2.getStructuringElement(cv2.MORPH_RECT, (40,1))\n",
    "# detected_lines = cv2.morphologyEx(thresh, cv2.MORPH_OPEN, horizontal_kernel, iterations=2)\n",
    "# display_image_cv(detected_lines,'detected_lines')\n",
    "\n",
    "# cnts = cv2.findContours(detected_lines, cv2.RETR_EXTERNAL, cv2.CHAIN_APPROX_SIMPLE)\n",
    "# # display_image_cv(detected_lines,'after detected_lines')\n",
    "# print(len(cnts))\n",
    "# cnts = cnts[0] if len(cnts) == 2 else cnts[1]\n",
    "# for c in cnts:\n",
    "#     cv2.drawContours(thresh, [c], -1, (0,0,0), 2)\n",
    "\n",
    "# display_image_cv(thresh,'thresh_a')\n",
    "# # Repair image\n",
    "# repair_kernel = cv2.getStructuringElement(cv2.MORPH_RECT, (1,6))\n",
    "# result = 255 - cv2.morphologyEx(255 - image, cv2.MORPH_CLOSE, repair_kernel, iterations=1)\n",
    "# display_image_cv(result,'result')\n",
    "\n",
    "# cv2.imshow('thresh', thresh)\n",
    "# cv2.imshow('detected_lines', detected_lines)\n",
    "# cv2.imshow('image', image)\n",
    "# cv2.imshow('result', result)\n",
    "cv2.waitKey()"
   ]
  },
  {
   "cell_type": "code",
   "execution_count": 163,
   "metadata": {},
   "outputs": [
    {
     "data": {
      "text/plain": [
       "-1"
      ]
     },
     "execution_count": 163,
     "metadata": {},
     "output_type": "execute_result"
    }
   ],
   "source": [
    "display_image_cv(thresh,'thresh')\n",
    "horizontal_kernel = cv2.getStructuringElement(cv2.MORPH_ELLIPSE, (2,2))\n",
    "remove_circle = cv2.morphologyEx(thresh, cv2.MORPH_OPEN, horizontal_kernel, iterations=2)\n",
    "display_image_cv(remove_circle,'remove_circle')\n",
    "cv2.waitKey(0)"
   ]
  },
  {
   "cell_type": "code",
   "execution_count": 60,
   "metadata": {},
   "outputs": [
    {
     "name": "stdout",
     "output_type": "stream",
     "text": [
      "<class 'list'> <class 'numpy.ndarray'>\n",
      "1 (1, 1, 4)\n"
     ]
    }
   ],
   "source": [
    "contours, hierarchy = cv2.findContours(gray,cv2.RETR_EXTERNAL,cv2.CHAIN_APPROX_NONE)\n",
    "print(type(contours),type(hierarchy))\n",
    "print(len(contours),hierarchy.shape)"
   ]
  },
  {
   "cell_type": "code",
   "execution_count": 290,
   "metadata": {},
   "outputs": [],
   "source": [
    "def remove_horizontal_line(thres_img,line_len=30):\n",
    "    # Remove horizontal\n",
    "    horizontal_kernel = cv2.getStructuringElement(cv2.MORPH_RECT, (line_len,1))\n",
    "    detected_lines = cv2.morphologyEx(thres_img, cv2.MORPH_OPEN, horizontal_kernel, iterations=2)\n",
    "#     display_image_cv(detected_lines,'detected_lines')\n",
    "\n",
    "    cnts = cv2.findContours(detected_lines, cv2.RETR_EXTERNAL, cv2.CHAIN_APPROX_SIMPLE)\n",
    "    # display_image_cv(detected_lines,'after detected_lines')\n",
    "    cnts = cnts[0] if len(cnts) == 2 else cnts[1]\n",
    "    for c in cnts:\n",
    "        cv2.drawContours(thres_img, [c], -1, (0,0,0), 2)\n",
    "    \n",
    "    return thres_img\n",
    "    \n",
    "def remove_vertical_line(thres_img,line_len=30):\n",
    "    # Remove horizontal\n",
    "    horizontal_kernel = cv2.getStructuringElement(cv2.MORPH_RECT, (1,line_len))\n",
    "    detected_lines = cv2.morphologyEx(thres_img, cv2.MORPH_OPEN, horizontal_kernel, iterations=2)\n",
    "    display_image_cv(detected_lines,'detected_lines')\n",
    "\n",
    "    cnts = cv2.findContours(detected_lines, cv2.RETR_EXTERNAL, cv2.CHAIN_APPROX_SIMPLE)\n",
    "    # display_image_cv(detected_lines,'after detected_lines')\n",
    "    print(len(cnts))\n",
    "    cnts = cnts[0] if len(cnts) == 2 else cnts[1]\n",
    "    for c in cnts:\n",
    "        cv2.drawContours(thres_img, [c], -1, (0,0,0), 2)\n",
    "    \n",
    "    return thres_img\n",
    "\n",
    "def plot_bbox(bin_img,image):\n",
    "    label,lab_img,stats,centroids = cv2.connectedComponentsWithStats(bin_img) # finding connected Component in the image\n",
    "    min_h,max_h,min_w,max_w = find_min_max(stats[1:])\n",
    "    print(min_h,max_h,min_w,max_w)\n",
    "    min_h = min_h+int(min_h/2)+1 \n",
    "    max_h = max_h-int(max_h/4) \n",
    "    min_w = min_w+int(min_w/2)+1 \n",
    "    max_w = max_w-int(max_w/4)\n",
    "    print(min_h,max_h,min_w,max_w)\n",
    "    for i in range(1,label,1):\n",
    "    # calculation of the bounding box point \n",
    "        x= stats[i, cv2.CC_STAT_LEFT]  # x point of the bounding box\n",
    "        y= stats[i, cv2.CC_STAT_TOP]   # y point of the bounding box\n",
    "        w= stats[i, cv2.CC_STAT_WIDTH] # w (width) point of the bounding box\n",
    "        h= stats[i, cv2.CC_STAT_HEIGHT] # h (hight) point of the bounding box\n",
    "        \n",
    "#         if h in range(min_h+3, max_h-10):\n",
    "#             if w in range(min_w+3,max_w-50):\n",
    "        if h in range(min_h, max_h):\n",
    "            if w in range(min_w,max_w):\n",
    "                cv2.rectangle(image, (x, y), (x + w, y + h), (0, 0, 255), 1) # drowing rectangular box on connected component \n",
    "    display_image_cv(image,'bounding image')\n",
    "\n",
    "def get_word_bbox(dilated_img):\n",
    "    label,lab_img,stats,centroids = cv2.connectedComponentsWithStats(dilated_img) # finding connected Component in the image\n",
    "    min_h,max_h,min_w,max_w = find_min_max(stats[1:])\n",
    "    print('Actual value: min_h = {}, max_h = {}, min_w = {}, max_w = {}'.format(min_h,max_h,min_w,max_w))\n",
    "    min_h = min_h+int(min_h/2)+1 \n",
    "    max_h = max_h-int(max_h/4) \n",
    "    min_w = min_w+int(min_w/2)+1 \n",
    "    max_w = max_w-int(max_w/4)\n",
    "    print('Set Thresold: min_h = {}, max_h = {}, min_w = {}, max_w = {}'.format(min_h,max_h,min_w,max_w))\n",
    "    bbox=[]\n",
    "    \n",
    "    for i in range(1,label,1):\n",
    "    # calculation of the bounding box point \n",
    "        x= stats[i, cv2.CC_STAT_LEFT]  # x point of the bounding box\n",
    "        y= stats[i, cv2.CC_STAT_TOP]   # y point of the bounding box\n",
    "        w= stats[i, cv2.CC_STAT_WIDTH] # w (width) point of the bounding box\n",
    "        h= stats[i, cv2.CC_STAT_HEIGHT] # h (hight) point of the bounding box\n",
    "        if h in range(min_h, max_h):\n",
    "            if w in range(min_w,max_w):\n",
    "                bbox.append([x, y,x + w, y + h])\n",
    "    return bbox\n",
    "def find_min_max(bbox):\n",
    "    h_bbox = [box[3] for box in bbox]\n",
    "    w_bbox = [box[2] for box in bbox]\n",
    "    return min(h_bbox),max(h_bbox),min(w_bbox),max(w_bbox)\n",
    "\n",
    "def detect_text(image):\n",
    "    res =isinstance(image,str)\n",
    "    if res:\n",
    "        image = cv2.imread(image)\n",
    "    gray = cv2.cvtColor(image,cv2.COLOR_BGR2GRAY)\n",
    "    thresh = cv2.threshold(gray, 0, 255, cv2.THRESH_BINARY_INV + cv2.THRESH_OTSU)[1]\n",
    "    line_remove = remove_horizontal_line(thresh, line_len=40)\n",
    "    kernel= cv2.getStructuringElement(cv2.MORPH_RECT, (1,1))\n",
    "    closed_img = cv2.morphologyEx(line_remove, cv2.MORPH_CLOSE, kernel)\n",
    "    kernel = cv2.getStructuringElement(cv2.MORPH_RECT,(10,2))\n",
    "    dilated_img = cv2.dilate(closed_img,kernel,iterations = 1) # dilate\n",
    "    bbox = get_word_bbox(dilated_img)\n",
    "    \n",
    "    return bbox, dilated_img\n",
    "\n",
    "def display_bbox(image,bbox):\n",
    "    res =isinstance(image,str)\n",
    "    if res:\n",
    "        image = cv2.imread(image)\n",
    "    for point in bbox:\n",
    "        x,y,w,h = point\n",
    "        cv2.rectangle(image, (x, y), (w,h), (0, 0, 255), 1) # drowing rectangular box on connected component\n",
    "    \n",
    "    display_image_cv(image,'bounding image')"
   ]
  },
  {
   "cell_type": "code",
   "execution_count": 291,
   "metadata": {},
   "outputs": [
    {
     "name": "stdout",
     "output_type": "stream",
     "text": [
      "Actual value: min_h = 3, max_h = 120, min_w = 9, max_w = 418\n",
      "Set Thresold: min_h = 5, max_h = 90, min_w = 14, max_w = 314\n"
     ]
    },
    {
     "data": {
      "text/plain": [
       "-1"
      ]
     },
     "execution_count": 291,
     "metadata": {},
     "output_type": "execute_result"
    }
   ],
   "source": [
    "idx=2\n",
    "image = cv2.imread(img_path_list[idx])\n",
    "\n",
    "bbox, dilated = detect_text(image)\n",
    "display_image_cv(dilated,'dilated image')\n",
    "display_bbox(image, bbox)\n",
    "cv2.waitKey(0)"
   ]
  },
  {
   "cell_type": "code",
   "execution_count": 218,
   "metadata": {},
   "outputs": [
    {
     "name": "stdout",
     "output_type": "stream",
     "text": [
      "min h = 3, max h = 120    min w = 9, max w = 418\n",
      "(949, 459, 3)\n"
     ]
    },
    {
     "data": {
      "text/plain": [
       "-1"
      ]
     },
     "execution_count": 218,
     "metadata": {},
     "output_type": "execute_result"
    }
   ],
   "source": [
    "plot_bbox(dilated,image)\n",
    "cv2.waitKey()"
   ]
  },
  {
   "cell_type": "code",
   "execution_count": 267,
   "metadata": {},
   "outputs": [
    {
     "name": "stdout",
     "output_type": "stream",
     "text": [
      "2 32 10 230\n"
     ]
    },
    {
     "data": {
      "text/plain": [
       "(4, 24, 16, 173)"
      ]
     },
     "execution_count": 267,
     "metadata": {},
     "output_type": "execute_result"
    }
   ],
   "source": [
    "min_h,max_h,min_w,max_w = find_min_max(stats[1:])\n",
    "print(min_h,max_h,min_w,max_w)\n",
    "min_h+int(min_h/2)+1, max_h-int(max_h/4), min_w+int(min_w/2)+1, max_w-int(max_w/4)"
   ]
  },
  {
   "cell_type": "code",
   "execution_count": 61,
   "metadata": {},
   "outputs": [
    {
     "data": {
      "text/plain": [
       "-1"
      ]
     },
     "execution_count": 61,
     "metadata": {},
     "output_type": "execute_result"
    }
   ],
   "source": [
    "\n",
    "# for each contour found, draw a rectangle around it on original image\n",
    "for contour in contours:\n",
    "    # get rectangle bounding contour\n",
    "    [x,y,w,h] = cv2.boundingRect(contour)\n",
    "    \n",
    "    # draw rectangle around contour on original image\n",
    "    cv2.rectangle(image,(x,y),(x+w,y+h),(0,255,0),2)\n",
    "display_image_cv(image,'Detected box')\n",
    "cv2.waitKey(0)"
   ]
  },
  {
   "cell_type": "code",
   "execution_count": 223,
   "metadata": {},
   "outputs": [],
   "source": [
    "label,lab_img,stats,centroids = cv2.connectedComponentsWithStats(dilated) # finding connected Component in the image"
   ]
  },
  {
   "cell_type": "code",
   "execution_count": 254,
   "metadata": {},
   "outputs": [
    {
     "data": {
      "text/plain": [
       "(2, 32, 10, 230)"
      ]
     },
     "execution_count": 254,
     "metadata": {},
     "output_type": "execute_result"
    }
   ],
   "source": [
    "d = find_min_max(stats[1:])\n",
    "d"
   ]
  },
  {
   "cell_type": "code",
   "execution_count": 251,
   "metadata": {},
   "outputs": [],
   "source": [
    "\n",
    "    "
   ]
  },
  {
   "cell_type": "code",
   "execution_count": 242,
   "metadata": {},
   "outputs": [
    {
     "data": {
      "text/plain": [
       "(array([290, 211,  10,   2,  20], dtype=int32),\n",
       " array([  70,  269,  139,   16, 1962], dtype=int32))"
      ]
     },
     "execution_count": 242,
     "metadata": {},
     "output_type": "execute_result"
    }
   ],
   "source": [
    "a.sort(key=lambda sort_on_area : sort_on_area[-1])\n",
    "a[0],a[-1]"
   ]
  },
  {
   "cell_type": "code",
   "execution_count": 247,
   "metadata": {},
   "outputs": [
    {
     "data": {
      "text/plain": [
       "3"
      ]
     },
     "execution_count": 247,
     "metadata": {},
     "output_type": "execute_result"
    }
   ],
   "source": [
    "cv2.CC_STAT_HEIGHT"
   ]
  }
 ],
 "metadata": {
  "hide_input": false,
  "kernelspec": {
   "display_name": "trevaller_policy",
   "language": "python",
   "name": "trevaller_policy"
  },
  "language_info": {
   "codemirror_mode": {
    "name": "ipython",
    "version": 3
   },
   "file_extension": ".py",
   "mimetype": "text/x-python",
   "name": "python",
   "nbconvert_exporter": "python",
   "pygments_lexer": "ipython3",
   "version": "3.7.7"
  },
  "varInspector": {
   "cols": {
    "lenName": 16,
    "lenType": 16,
    "lenVar": 40
   },
   "kernels_config": {
    "python": {
     "delete_cmd_postfix": "",
     "delete_cmd_prefix": "del ",
     "library": "var_list.py",
     "varRefreshCmd": "print(var_dic_list())"
    },
    "r": {
     "delete_cmd_postfix": ") ",
     "delete_cmd_prefix": "rm(",
     "library": "var_list.r",
     "varRefreshCmd": "cat(var_dic_list()) "
    }
   },
   "types_to_exclude": [
    "module",
    "function",
    "builtin_function_or_method",
    "instance",
    "_Feature"
   ],
   "window_display": false
  }
 },
 "nbformat": 4,
 "nbformat_minor": 2
}
