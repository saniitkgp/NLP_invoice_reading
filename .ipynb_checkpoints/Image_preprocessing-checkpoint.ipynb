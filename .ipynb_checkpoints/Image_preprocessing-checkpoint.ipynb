{
 "cells": [
  {
   "cell_type": "code",
   "execution_count": 1,
   "metadata": {},
   "outputs": [],
   "source": [
    "import glob\n",
    "from pdf2image import convert_from_path\n",
    "import pandas as pd\n",
    "import pytesseract\n",
    "from bs4 import BeautifulSoup\n",
    "import pickle\n",
    "import cv2\n",
    "import matplotlib.pyplot as plt"
   ]
  },
  {
   "cell_type": "code",
   "execution_count": 2,
   "metadata": {},
   "outputs": [],
   "source": [
    "pdf_path = \"C:/Users/Sanjeev/Documents/Python Scripts/NLP/Image_preprocessing/OneDrive_1_4-27-2020/*.pdf\"\n",
    "poppler_path = 'C:/python_lib/poppler-0.68.0/bin'\n",
    "outfolder = \"C:/Users/Sanjeev/Documents/Python Scripts/NLP/Image_preprocessing/output_image\"\n",
    "img_file_path = \"C:/Users/Sanjeev/Documents/Python Scripts/NLP/Image_preprocessing/output_image/*.png\"\n",
    "tesseract_path ='C:/python_lib/ocr/tesseract.exe'\n",
    "# data_path = \"C:/Users/Sanjeev/Documents/Python Scripts/Dataset/df_word_list\"\n",
    "pytesseract.pytesseract.tesseract_cmd = 'C:/python_lib/ocr/tesseract.exe'"
   ]
  },
  {
   "cell_type": "code",
   "execution_count": 3,
   "metadata": {
    "code_folding": [
     0
    ]
   },
   "outputs": [],
   "source": [
    "def convert_pdf2image(pdf_path, output_path, poppler_path):\n",
    "    file_path = glob.glob(pdf_path)\n",
    "    img_list=[]\n",
    "    for file in file_path:\n",
    "        print(file)\n",
    "        img_name= file.split(\"\\\\\")[1]\n",
    "        img_name = output_path+img_name.split(\".\")[0]+'.png'\n",
    "        images = convert_from_path(file, 300, poppler_path=poppler_path)\n",
    "        for image in images:\n",
    "            image.save(img_name, 'PNG')\n",
    "            img_list.append(images)\n",
    "    \n",
    "    return  img_list\n",
    "    "
   ]
  },
  {
   "cell_type": "code",
   "execution_count": 2,
   "metadata": {
    "code_folding": [
     0,
     11
    ]
   },
   "outputs": [],
   "source": [
    "def displayColorImage(img):\n",
    "    img=cv2.cvtColor(img,cv2.COLOR_BGR2RGB)\n",
    "    plt.imshow(img)\n",
    "    plt.title(\"RGB Image\")\n",
    "    plt.axis('off')\n",
    "\n",
    "def displayGrayImage(img):\n",
    "    plt.imshow(img, cmap='gray')\n",
    "    plt.title(\"Gray Image\")\n",
    "    plt.axis('off')\n",
    "    \n",
    "def display_image(img,img_title='Image'):\n",
    "    res = isinstance(img, str)\n",
    "    if res:\n",
    "        print('reading image ../n' )\n",
    "        img = cv2.imread(img)  \n",
    "    if len(img.shape) > 2:\n",
    "        plt.imshow(img, cmap='gray')\n",
    "        plt.title(img_title+str('Gray'))\n",
    "        plt.axis('off')\n",
    "    else:\n",
    "        img=cv2.cvtColor(img,cv2.COLOR_BGR2RGB)\n",
    "        plt.imshow(img)\n",
    "        plt.title(img_title+str('Color'))\n",
    "        plt.axis('off')\n",
    "\n",
    "def display_image_cv(img,window_name='Image'):\n",
    "    res = isinstance(img, str)\n",
    "    if res:\n",
    "        img = cv2.imread(img)\n",
    "        \n",
    "    cv2.namedWindow(window_name, cv2.WINDOW_NORMAL)\n",
    "    cv2.imshow(window_name, img)\n",
    "    "
   ]
  },
  {
   "cell_type": "code",
   "execution_count": null,
   "metadata": {},
   "outputs": [],
   "source": [
    "convert_pdf2image(pdf_path, outfolder, poppler_path)"
   ]
  },
  {
   "cell_type": "code",
   "execution_count": 7,
   "metadata": {},
   "outputs": [
    {
     "data": {
      "text/plain": [
       "7"
      ]
     },
     "execution_count": 7,
     "metadata": {},
     "output_type": "execute_result"
    }
   ],
   "source": [
    "img_list = glob.glob(img_file_path)\n",
    "\n",
    "# display_image_cv(img_list[0])\n",
    "# cv2.waitKey(0)\n",
    "len(img_list)"
   ]
  },
  {
   "cell_type": "code",
   "execution_count": 8,
   "metadata": {},
   "outputs": [
    {
     "ename": "error",
     "evalue": "OpenCV(4.2.0) C:\\projects\\opencv-python\\opencv\\modules\\imgproc\\src\\hough.cpp:120: error: (-215:Assertion failed) img.type() == CV_8UC1 in function 'cv::HoughLinesStandard'\n",
     "output_type": "error",
     "traceback": [
      "\u001b[1;31m---------------------------------------------------------------------------\u001b[0m",
      "\u001b[1;31merror\u001b[0m                                     Traceback (most recent call last)",
      "\u001b[1;32m<ipython-input-8-1d9acfe99f5e>\u001b[0m in \u001b[0;36m<module>\u001b[1;34m\u001b[0m\n\u001b[0;32m     23\u001b[0m \u001b[1;33m\u001b[0m\u001b[0m\n\u001b[0;32m     24\u001b[0m \u001b[1;33m\u001b[0m\u001b[0m\n\u001b[1;32m---> 25\u001b[1;33m \u001b[0mlines\u001b[0m \u001b[1;33m=\u001b[0m \u001b[0mcv2\u001b[0m\u001b[1;33m.\u001b[0m\u001b[0mHoughLines\u001b[0m\u001b[1;33m(\u001b[0m\u001b[0mlaplacian\u001b[0m\u001b[1;33m,\u001b[0m\u001b[1;36m1\u001b[0m\u001b[1;33m,\u001b[0m\u001b[0mnp\u001b[0m\u001b[1;33m.\u001b[0m\u001b[0mpi\u001b[0m\u001b[1;33m/\u001b[0m\u001b[1;36m180\u001b[0m\u001b[1;33m,\u001b[0m\u001b[1;36m200\u001b[0m\u001b[1;33m)\u001b[0m\u001b[1;33m\u001b[0m\u001b[1;33m\u001b[0m\u001b[0m\n\u001b[0m\u001b[0;32m     26\u001b[0m \u001b[1;32mfor\u001b[0m \u001b[0mrho\u001b[0m\u001b[1;33m,\u001b[0m\u001b[0mtheta\u001b[0m \u001b[1;32min\u001b[0m \u001b[0mlines\u001b[0m\u001b[1;33m[\u001b[0m\u001b[1;36m0\u001b[0m\u001b[1;33m]\u001b[0m\u001b[1;33m:\u001b[0m\u001b[1;33m\u001b[0m\u001b[1;33m\u001b[0m\u001b[0m\n\u001b[0;32m     27\u001b[0m     \u001b[0ma\u001b[0m \u001b[1;33m=\u001b[0m \u001b[0mnp\u001b[0m\u001b[1;33m.\u001b[0m\u001b[0mcos\u001b[0m\u001b[1;33m(\u001b[0m\u001b[0mtheta\u001b[0m\u001b[1;33m)\u001b[0m\u001b[1;33m\u001b[0m\u001b[1;33m\u001b[0m\u001b[0m\n",
      "\u001b[1;31merror\u001b[0m: OpenCV(4.2.0) C:\\projects\\opencv-python\\opencv\\modules\\imgproc\\src\\hough.cpp:120: error: (-215:Assertion failed) img.type() == CV_8UC1 in function 'cv::HoughLinesStandard'\n"
     ]
    }
   ],
   "source": [
    "img_path=img_list[0]\n",
    "# img_path = \"C:/Users/Sanjeev/Documents/Python Scripts/images/soduku.jpg\"\n",
    "img=cv2.imread(img_path)\n",
    "# display_image_cv(img,'original Image')\n",
    "gray = cv2.cvtColor(img,cv2.COLOR_BGR2GRAY)\n",
    "\n",
    "# display_image_cv(gray,'Gray Image')\n",
    "# edges = cv2.Canny(gray,50,150,apertureSize = 3)\n",
    "\n",
    "# edges = cv2.Canny(gray, 100, 170, apertureSize = 3)\n",
    "# lines = cv2.HoughLines(edges, 1, np.pi/180, 200)\n",
    "\n",
    "# edges= cv2.threshold(gray, 0, 255, cv2.THRESH_BINARY_INV + cv2.THRESH_OTSU)[1]\n",
    "# display_image_cv(edges,'edges Image')\n",
    "# img = np.ones(img.shape)\n",
    "# lines = cv2.HoughLines(edges,1,np.pi/180,200)\n",
    "\n",
    "# Apply gaussian blur\n",
    "blur_img = cv2.GaussianBlur(gray, (3, 3), 0)\n",
    "\n",
    "# Positive Laplacian Operator\n",
    "laplacian = cv2.Laplacian(blur_img, cv2.CV_64F)\n",
    "\n",
    "\n",
    "lines = cv2.HoughLines(laplacian,1,np.pi/180,200)\n",
    "for rho,theta in lines[0]:\n",
    "    a = np.cos(theta)\n",
    "    b = np.sin(theta)\n",
    "    x0 = a*rho\n",
    "    y0 = b*rho\n",
    "    x1 = int(x0 + 1000*(-b))\n",
    "    y1 = int(y0 + 1000*(a))\n",
    "    x2 = int(x0 - 1000*(-b))\n",
    "    y2 = int(y0 - 1000*(a))\n",
    "\n",
    "    cv2.line(img,(x1,y1),(x2,y2),(0,255,0),3)\n",
    "\n",
    "display_image_cv(img,'detected Lines')\n",
    "cv2.waitKey(0)"
   ]
  },
  {
   "cell_type": "code",
   "execution_count": null,
   "metadata": {},
   "outputs": [],
   "source": [
    "lines.shape"
   ]
  },
  {
   "cell_type": "code",
   "execution_count": null,
   "metadata": {},
   "outputs": [],
   "source": [
    "# To eliminate horizontal and vertical lines\n",
    "\n",
    "image = cv2.imread(img_list[0])\n",
    "result = image.copy()\n",
    "gray = cv2.cvtColor(image,cv2.COLOR_BGR2GRAY)\n",
    "thresh = cv2.threshold(gray, 0, 255, cv2.THRESH_BINARY_INV + cv2.THRESH_OTSU)[1]\n",
    "\n",
    "# Remove horizontal lines\n",
    "horizontal_kernel = cv2.getStructuringElement(cv2.MORPH_RECT, (40,1))\n",
    "remove_horizontal = cv2.morphologyEx(thresh, cv2.MORPH_OPEN, horizontal_kernel, iterations=2)\n",
    "cnts = cv2.findContours(remove_horizontal, cv2.RETR_EXTERNAL, cv2.CHAIN_APPROX_SIMPLE)\n",
    "cnts = cnts[0] if len(cnts) == 2 else cnts[1]\n",
    "for c in cnts:\n",
    "    cv2.drawContours(result, [c], -5, (255,255,255), 10)\n",
    "\n",
    "# Remove vertical lines\n",
    "vertical_kernel = cv2.getStructuringElement(cv2.MORPH_RECT, (1,40))\n",
    "remove_vertical = cv2.morphologyEx(thresh, cv2.MORPH_OPEN, vertical_kernel, iterations=2)\n",
    "cnts = cv2.findContours(remove_vertical, cv2.RETR_EXTERNAL, cv2.CHAIN_APPROX_SIMPLE)\n",
    "cnts = cnts[0] if len(cnts) == 2 else cnts[1]\n",
    "for c in cnts:\n",
    "    cv2.drawContours(result, [c], -20, (255,255,255), 10)\n",
    "\n",
    "#cv2.imshow('thresh', thresh)\n",
    "#cv2.imshow('result', result)\n",
    "# cv2.imwrite('result.png', result)\n",
    "# cv2.imwrite('thresh.png', thresh)\n",
    "display_image_cv(result, 'result Image')\n",
    "display_image_cv(thresh, 'tresh Image')\n",
    "\n",
    "cv2.waitKey()"
   ]
  },
  {
   "cell_type": "code",
   "execution_count": 20,
   "metadata": {},
   "outputs": [
    {
     "data": {
      "text/plain": [
       "'C:/Users/Sanjeev/Documents/Python Scripts/NLP/Image_preprocessing/output_image\\\\output_image66_Redacted.png'"
      ]
     },
     "execution_count": 20,
     "metadata": {},
     "output_type": "execute_result"
    }
   ],
   "source": [
    "img_list[0]"
   ]
  },
  {
   "cell_type": "code",
   "execution_count": 21,
   "metadata": {},
   "outputs": [
    {
     "data": {
      "text/plain": [
       "True"
      ]
     },
     "execution_count": 21,
     "metadata": {},
     "output_type": "execute_result"
    }
   ],
   "source": [
    "import cv2\n",
    "import numpy as np\n",
    "img_path = \"C:/Users/Sanjeev/Documents/Python Scripts/images/soduku.jpg\"\n",
    "image = cv2.imread(img_list[0])\n",
    "# image = cv2.imread(img_path)\n",
    "# Grayscale and Canny Edges extracted\n",
    "gray = cv2.cvtColor(image, cv2.COLOR_BGR2GRAY)\n",
    "edges = cv2.Canny(gray, 100, 170, apertureSize = 3)\n",
    "lines = cv2.HoughLines(edges, 1, np.pi/80, 400)\n",
    "\n",
    "# We iterate through each line and convert it to the format\n",
    "# required by cv.lines (i.e. requiring end points)\n",
    "for line in lines:\n",
    "    rho, theta = line[0]\n",
    "    a = np.cos(theta)\n",
    "    b = np.sin(theta)\n",
    "    x0 = a * rho\n",
    "    y0 = b * rho\n",
    "    x1 = int(x0 + 1000 * (-b))\n",
    "    y1 = int(y0 + 1000 * (a))\n",
    "    x2 = int(x0 - 1000 * (-b))\n",
    "    y2 = int(y0 - 1000 * (a))\n",
    "    cv2.line(image, (x1, y1), (x2, y2), (255, 0, 0), 2)\n",
    "\n",
    "# display_image_cv(image,'detected lines')\n",
    "# cv2.waitKey(0)\n",
    "\n",
    "cv2.imwrite('C:/Users/Sanjeev/Documents/Python Scripts/NLP/Image_preprocessing/output_image/line.png', image)"
   ]
  },
  {
   "cell_type": "code",
   "execution_count": null,
   "metadata": {},
   "outputs": [],
   "source": []
  }
 ],
 "metadata": {
  "hide_input": false,
  "kernelspec": {
   "display_name": "trevaller_policy",
   "language": "python",
   "name": "trevaller_policy"
  },
  "language_info": {
   "codemirror_mode": {
    "name": "ipython",
    "version": 3
   },
   "file_extension": ".py",
   "mimetype": "text/x-python",
   "name": "python",
   "nbconvert_exporter": "python",
   "pygments_lexer": "ipython3",
   "version": "3.7.7"
  },
  "varInspector": {
   "cols": {
    "lenName": 16,
    "lenType": 16,
    "lenVar": 40
   },
   "kernels_config": {
    "python": {
     "delete_cmd_postfix": "",
     "delete_cmd_prefix": "del ",
     "library": "var_list.py",
     "varRefreshCmd": "print(var_dic_list())"
    },
    "r": {
     "delete_cmd_postfix": ") ",
     "delete_cmd_prefix": "rm(",
     "library": "var_list.r",
     "varRefreshCmd": "cat(var_dic_list()) "
    }
   },
   "types_to_exclude": [
    "module",
    "function",
    "builtin_function_or_method",
    "instance",
    "_Feature"
   ],
   "window_display": false
  }
 },
 "nbformat": 4,
 "nbformat_minor": 2
}
